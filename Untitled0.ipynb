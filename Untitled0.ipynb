{
 "metadata": {
  "name": "Untitled0"
 },
 "nbformat": 3,
 "nbformat_minor": 0,
 "worksheets": [
  {
   "cells": [
    {
     "cell_type": "code",
     "collapsed": false,
     "input": [
      "import numpy as np\n",
      "from mpl_toolkits.basemap import Basemap\n",
      "import matplotlib.pyplot as plt\n",
      "import pygrib\n",
      "import matplotlib as mt\n",
      "import ttuatmo.radar.ctables as ct\n",
      "import glob\n",
      "import netCDF4 as nc"
     ],
     "language": "python",
     "metadata": {},
     "outputs": [],
     "prompt_number": 2
    },
    {
     "cell_type": "code",
     "collapsed": false,
     "input": [
      "a = nc.Dataset(\"/Volumes/External/aereinha/dumasmeso1/outputdfi3hr/2010051803/precip/wrf_precip_d01_2010-05-18_06:00:00_1\",\"r\")\n",
      "b=nc.Dataset(\"/Volumes/External/aereinha/dumasmeso1/outputnodfi3hr/2010051803/precip/wrf_precip_d01_2010-05-18_06:00:00_1\",\"r\")"
     ],
     "language": "python",
     "metadata": {},
     "outputs": [],
     "prompt_number": 83
    },
    {
     "cell_type": "code",
     "collapsed": false,
     "input": [
      "#MUd = a.variables['T2_d01'][0,0,:,:]-b.variables['T2_d01'][0,0,:,:]\n",
      "#refldiff = a.variables['REFL_10CM'][:]# - b.variables['REFL_10CM'][:]\n",
      "a = nc.Dataset(\"/Volumes/External/aereinha/dumasmeso1/outputdfi3hr/2010051821/Prior_Diag.nc\",\"r\")\n",
      "b = nc.Dataset(\"/Volumes/External/aereinha/dumasmeso1/outputnodfi3hr/2010051821/Prior_Diag.nc\",\"r\")\n",
      "a.variables.keys()"
     ],
     "language": "python",
     "metadata": {},
     "outputs": [
      {
       "output_type": "pyout",
       "prompt_number": 6,
       "text": [
        "[u'copy',\n",
        " u'CopyMetaData',\n",
        " u'inputnml',\n",
        " u'time',\n",
        " u'DX',\n",
        " u'DY',\n",
        " u'TRUELAT1',\n",
        " u'TRUELAT2',\n",
        " u'STAND_LON',\n",
        " u'CEN_LAT',\n",
        " u'CEN_LON',\n",
        " u'MAP_PROJ',\n",
        " u'PERIODIC_X',\n",
        " u'POLAR',\n",
        " u'DN_d01',\n",
        " u'ZNU_d01',\n",
        " u'ZNW_d01',\n",
        " u'DNW_d01',\n",
        " u'MUB_d01',\n",
        " u'XLONG_d01',\n",
        " u'XLONG_U_d01',\n",
        " u'XLONG_V_d01',\n",
        " u'XLAT_d01',\n",
        " u'XLAT_U_d01',\n",
        " u'XLAT_V_d01',\n",
        " u'level_d01',\n",
        " u'XLAND_d01',\n",
        " u'PHB_d01',\n",
        " u'HGT_d01',\n",
        " u'U_d01',\n",
        " u'V_d01',\n",
        " u'W_d01',\n",
        " u'PH_d01',\n",
        " u'T_d01',\n",
        " u'MU_d01',\n",
        " u'QVAPOR_d01',\n",
        " u'QCLOUD_d01',\n",
        " u'QRAIN_d01',\n",
        " u'QICE_d01',\n",
        " u'QSNOW_d01',\n",
        " u'QGRAUP_d01',\n",
        " u'QNICE_d01',\n",
        " u'QNRAIN_d01',\n",
        " u'U10_d01',\n",
        " u'V10_d01',\n",
        " u'T2_d01',\n",
        " u'Q2_d01',\n",
        " u'PSFC_d01',\n",
        " u'TH2_d01']"
       ]
      }
     ],
     "prompt_number": 6
    },
    {
     "cell_type": "code",
     "collapsed": false,
     "input": [
      "xlat = a.variables['XLAT_d01'][:]\n",
      "xlong = a.variables['XLONG_d01'][:]\n",
      "U = a.variables['U_d01'][0,0,0,:,:]\n",
      "V = a.variables['V_d01'][0,0,0,:,:]\n",
      "Ub = b.variables['U_d01'][0,0,0,:,:]\n",
      "Vb = b.variables['V_d01'][0,0,0,:,:]\n",
      "T = a.variables['T_d01'][0,0,0,:,:]-b.variables['T_d01'][0,0,0,:,:]\n",
      "#print(W.shape)\n",
      "print(xlat.shape)\n",
      "#Tdfi = a.variables['TH2_d01'][0,0,:,:]\n",
      "#shape = xlat.shape\n",
      "xdim = len(a.variables['XLAT_d01'][0,:])\n",
      "ydim = len(a.variables['XLONG_d01'][:,0])"
     ],
     "language": "python",
     "metadata": {},
     "outputs": [
      {
       "output_type": "stream",
       "stream": "stdout",
       "text": [
        "(119, 204)\n"
       ]
      }
     ],
     "prompt_number": 8
    },
    {
     "cell_type": "code",
     "collapsed": false,
     "input": [
      "j = 0\n",
      "for i in glob.glob(\"/Volumes/External/aereinha/dumasmeso1/outputdfi3hr/2010051900/precip/wrf_precip_d01_2010-05-*\"):\n",
      "    if j ==0:\n",
      "        b=nc.Dataset(i,\"r\")\n",
      "        ref0 = b.variables['REFL_10CM'][0,:,:,:]\n",
      "        b.close()\n",
      "    else:\n",
      "        b=nc.Dataset(i,\"r\")\n",
      "        ref0 = ref0 + b.variables['REFL_10CM'][0,:,:,:]\n",
      "        b.close()\n",
      "    j = j+1\n",
      "    \n",
      "refmeandfi0 = ref0/50.\n",
      "\n",
      "refmaxdfi = np.maximum.reduce(refmeandfi0)"
     ],
     "language": "python",
     "metadata": {},
     "outputs": [],
     "prompt_number": 19
    },
    {
     "cell_type": "code",
     "collapsed": false,
     "input": [
      "shapefilelocation=\"/Volumes/External/aereinha/shapefiles\"\n",
      "m=Basemap(resolution='i',projection='lcc',llcrnrlon=xlong[0,0],llcrnrlat=xlat[0,0],urcrnrlon=xlong[-1,-1],urcrnrlat=xlat[-1,-1],lat_1=a.variables['TRUELAT1'][:],lat_2=a.variables['TRUELAT2'][:],lat_0=a.variables['CEN_LAT'][:],lon_0=a.variables['STAND_LON'][:])\n",
      "m.drawcoastlines()\n",
      "m.drawstates()\n",
      "m.drawcountries()\n",
      "#m.readshapefile(shapefilelocation+'/counties/c_03ap12', name='counties')\n",
      "x,y = m(xlong[::5,::5],xlat[::5,::5])\n",
      "#levs = np.arange(-15.,60.,5.)\n",
      "cs = m.barbs(x,y,Ub[::5,1::5]*1.94384,Vb[1::5,::5]*1.94384,barbcolor='green')\n",
      "#cs=m.contourf(x,y,W[0,:,:],levels=levs,cmap=ct.Carbone42)\n",
      "#plt.colorbar()\n",
      "plt.savefig(\"domainnodfiprior21Windbarbs.png\",dpi=300)\n",
      "plt.show()"
     ],
     "language": "python",
     "metadata": {},
     "outputs": [],
     "prompt_number": 17
    },
    {
     "cell_type": "code",
     "collapsed": false,
     "input": [
      "print(a.variables.keys())\n",
      "a.variables['PH_d01'].shape"
     ],
     "language": "python",
     "metadata": {},
     "outputs": [
      {
       "output_type": "stream",
       "stream": "stdout",
       "text": [
        "[u'copy', u'CopyMetaData', u'inputnml', u'time', u'DX', u'DY', u'TRUELAT1', u'TRUELAT2', u'STAND_LON', u'CEN_LAT', u'CEN_LON', u'MAP_PROJ', u'PERIODIC_X', u'POLAR', u'DN_d01', u'ZNU_d01', u'ZNW_d01', u'DNW_d01', u'MUB_d01', u'XLONG_d01', u'XLONG_U_d01', u'XLONG_V_d01', u'XLAT_d01', u'XLAT_U_d01', u'XLAT_V_d01', u'level_d01', u'XLAND_d01', u'PHB_d01', u'HGT_d01', u'U_d01', u'V_d01', u'W_d01', u'PH_d01', u'T_d01', u'MU_d01', u'QVAPOR_d01', u'QCLOUD_d01', u'QRAIN_d01', u'QICE_d01', u'QSNOW_d01', u'QGRAUP_d01', u'QNICE_d01', u'QNRAIN_d01', u'U10_d01', u'V10_d01', u'T2_d01', u'Q2_d01', u'PSFC_d01', u'TH2_d01']\n"
       ]
      },
      {
       "output_type": "pyout",
       "prompt_number": 45,
       "text": [
        "(1, 5, 51, 119, 204)"
       ]
      }
     ],
     "prompt_number": 45
    },
    {
     "cell_type": "code",
     "collapsed": false,
     "input": [
      "a = nc.Dataset(\"/Volumes/External/aereinha/glenNcl/glenoutputdfi4.nc\",'r')\n",
      "b = nc.Dataset(\"/Volumes/External/aereinha/glenNcl/glenoutputnodfi4.nc\",'r')\n"
     ],
     "language": "python",
     "metadata": {},
     "outputs": [],
     "prompt_number": 92
    },
    {
     "cell_type": "code",
     "collapsed": false,
     "input": [
      "plt.plot(a.variables['count'][:])"
     ],
     "language": "python",
     "metadata": {},
     "outputs": [
      {
       "output_type": "pyout",
       "prompt_number": 100,
       "text": [
        "[<matplotlib.lines.Line2D at 0x108560990>]"
       ]
      }
     ],
     "prompt_number": 100
    },
    {
     "cell_type": "code",
     "collapsed": false,
     "input": [
      "plt.show()"
     ],
     "language": "python",
     "metadata": {},
     "outputs": [],
     "prompt_number": 101
    },
    {
     "cell_type": "code",
     "collapsed": false,
     "input": [],
     "language": "python",
     "metadata": {},
     "outputs": []
    }
   ],
   "metadata": {}
  }
 ]
}