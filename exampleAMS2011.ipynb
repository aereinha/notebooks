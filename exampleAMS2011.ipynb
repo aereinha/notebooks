{
 "metadata": {
  "name": "exampleAMS2011"
 },
 "nbformat": 3,
 "nbformat_minor": 0,
 "worksheets": [
  {
   "cells": [
    {
     "cell_type": "code",
     "collapsed": false,
     "input": [
      "import numpy as np\n",
      "import os as os\n",
      "flt = np.float32\n",
      "import matplotlib.pyplot as plt\n",
      "from matplotlib.pyplot import savefig, figure,close\n",
      "from RSL import RSL_anyformat_to_radar, getAllRays, fieldTypes,RSL_free_radar, RSL_wsr88d_to_radar\n",
      "from LMAtools.coordinateSystems import RadarCoordinateSystem, MapProjection\n",
      "import ttuatmo.radar.ctables as ct\n",
      "\n",
      "kounLat = 35.23833\n",
      "kounLon = -97.46028\n",
      "kounAlt = 377.0\n",
      "mapProj = MapProjection(projection='eqc', ctrLat=kounLat, ctrLon=kounLon, lat_ts=kounLat, lon_0=kounLon)\n",
      "radarProj = RadarCoordinateSystem(kounLat,kounLon,kounAlt)\n",
      "\n",
      "#for j in os.listdir('/Users/aereinha/Documents/Dissertation/032712Dryline/ka2/uf/'):\n",
      "#radar = RSL_wsr88d_to_radar('/Volumes/External/aereinha/051010ounradar/KOUN20100511_000206_V06',\"KOUN\")\n",
      "radar = RSL_wsr88d_to_radar('/Volumes/External/aereinha/051010ounradar/KOUN20100511_000206_V06',\"KOUN\")\n",
      "DZ_volume = fieldTypes().VR\n",
      "sweep = radar.contents.volumes[DZ_volume].sweeps[:]\n",
      "for k,i in enumerate(sweep):\n",
      "\n",
      "\tdtype = [('r', flt),('az', flt),('el',flt),('DZ',flt)]\n",
      "\tswp_data = np.zeros([i.nrays, i.rays[0].nbins], dtype=dtype)\n",
      "\tfor raynum, ray in enumerate(i.rays):\n",
      "\t    swp_data[raynum, :]['DZ'] = ray.data\n",
      "\t    swp_data[raynum, :]['r']  = ray.dists\n",
      "\t    swp_data[raynum, :]['az'] = ray.azimuth\n",
      "\t    swp_data[raynum, :]['el'] = ray.elev\n",
      "\n",
      "\t#good = ((swp_data['r'] > 10e3) & (swp_data['r'] < 100e3) &\n",
      "\t#        (swp_data['az']> 280)  & (swp_data['az']< 350) & \n",
      "\t#        (swp_data['DZ']< 100)  & (swp_data['DZ']> 0) )\n",
      "\tdata = swp_data.view(np.ma.MaskedArray)\n",
      "\t#data[good==False] = np.ma.masked\n",
      "\n",
      "\tx, y, z = mapProj.fromECEF(*radarProj.toECEF(data['r'],data['az'],data['el']))\n",
      "\tx.shape = y.shape = z.shape = data['DZ'].shape\n",
      "\n",
      "\tfigure()\n",
      "\tmesh = plt.pcolormesh(x/1e3, y/1e3, data['DZ'], vmin=-20, vmax=20,cmap=ct.Carbone42)\n",
      "\tplt.axis((-90,90,-90,90))\n",
      "\tplt.xlabel('East distance (km)')\n",
      "\tplt.ylabel('North distance (km)')\n",
      "\tcbar = plt.colorbar(mesh)\n",
      "\tcbar.ax.set_title('m/s')\n",
      "\tplt.show()\n",
      "#\tsavefig('VR '+str(j)+str(radar.contents.h.hour)+str(radar.contents.h.minute)+str(radar.contents.h.sec)+str(k)+'.png',dpi=300)\n",
      "\tclose()\n",
      "RSL_free_radar(radar)"
     ],
     "language": "python",
     "metadata": {},
     "outputs": []
    }
   ],
   "metadata": {}
  }
 ]
}