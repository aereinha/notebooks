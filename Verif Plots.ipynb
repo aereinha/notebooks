{
 "metadata": {
  "name": "Verif Plots"
 },
 "nbformat": 3,
 "nbformat_minor": 0,
 "worksheets": [
  {
   "cells": [
    {
     "cell_type": "code",
     "collapsed": false,
     "input": [
      "import numpy as np\n",
      "from mpl_toolkits.basemap import Basemap\n",
      "import matplotlib.pyplot as plt\n",
      "#import pygrib\n",
      "import matplotlib as mt\n",
      "import ttuatmo.radar.ctables as ct\n",
      "import glob\n",
      "import netCDF4 as nc"
     ],
     "language": "python",
     "metadata": {},
     "outputs": [],
     "prompt_number": 1
    },
    {
     "cell_type": "code",
     "collapsed": false,
     "input": [
      "a = nc.Dataset(\"/Volumes/External/aereinha/dumasmeso1/outputdfi3hr/2010051821/precip/wrf_precip_d01_2010-05-19_00:00:00_1\",\"r\")\n",
      "b=nc.Dataset(\"/Volumes/External/aereinha/dumasmeso1/outputnodfi3hr/2010051821/precip/wrf_precip_d01_2010-05-19_00:00:00_1\",\"r\")"
     ],
     "language": "python",
     "metadata": {},
     "outputs": [],
     "prompt_number": 54
    },
    {
     "cell_type": "code",
     "collapsed": false,
     "input": [
      "#MUd = a.variables['T2_d01'][0,0,:,:]-b.variables['T2_d01'][0,0,:,:]\n",
      "#refldiff = a.variables['REFL_10CM'][:]# - b.variables['REFL_10CM'][:]\n",
      "a = nc.Dataset(\"/Volumes/External/aereinha/dumasmeso1/outputdfi3hr/2010051900/Prior_Diag.nc\",\"r\")\n",
      "b = nc.Dataset(\"/Volumes/External/aereinha/dumasmeso1/outputnodfi3hr/2010051900/Prior_Diag.nc\",\"r\")\n",
      "print(len(a.dimensions['bottom_top_d01']))"
     ],
     "language": "python",
     "metadata": {},
     "outputs": [
      {
       "output_type": "stream",
       "stream": "stdout",
       "text": [
        "50\n"
       ]
      }
     ],
     "prompt_number": 18
    },
    {
     "cell_type": "code",
     "collapsed": false,
     "input": [
      "xlat = a.variables['XLAT_d01'][:]\n",
      "xlong = a.variables['XLONG_d01'][:]\n",
      "U = a.variables['U_d01'][0,0,0,:,:]\n",
      "V = a.variables['V_d01'][0,0,0,:,:]\n",
      "Ub = b.variables['U_d01'][0,0,0,:,:]\n",
      "Vb = b.variables['V_d01'][0,0,0,:,:]\n",
      "T = a.variables['T_d01'][0,0,0,:,:]-b.variables['T_d01'][0,0,0,:,:]\n",
      "#print(W.shape)\n",
      "print(xlat.shape)\n",
      "Tdfi = a.variables['W_d01'][0,0,20,:,:]#-b.variables['W_d01'][0,0,20,:,:]\n",
      "#dbz = a.variables['REFL_10CM'][0,0,:,:]\n",
      "#shape = xlat.shape\n",
      "xdim = len(a.variables['XLAT_d01'][0,:])\n",
      "ydim = len(a.variables['XLONG_d01'][:,0])"
     ],
     "language": "python",
     "metadata": {},
     "outputs": [
      {
       "output_type": "stream",
       "stream": "stdout",
       "text": [
        "(119, 204)\n"
       ]
      }
     ],
     "prompt_number": 5
    },
    {
     "cell_type": "code",
     "collapsed": false,
     "input": [
      "j = 0\n",
      "for i in glob.glob(\"/Volumes/External/aereinha/dumasmeso1/outputdfi3hr/2010051800/precip/wrf_precip_d01_2010-05-*\"):\n",
      "    if j ==0:\n",
      "        b=nc.Dataset(i,\"r\")\n",
      "        ref0 = b.variables['RAINNC'][0,:,:]\n",
      "        b.close()\n",
      "    else:\n",
      "        b=nc.Dataset(i,\"r\")\n",
      "        ref0 = ref0 + b.variables['RAINNC'][0,:,:]\n",
      "        b.close()\n",
      "    j = j+1\n",
      "j = 0\n",
      "    \n",
      "for i in glob.glob(\"/Volumes/External/aereinha/dumasmeso1/outputdfi3hr/2010051803/precip/wrf_precip_d01_2010-05-*\"):\n",
      "    if j ==0:\n",
      "        b=nc.Dataset(i,\"r\")\n",
      "        ref3 = b.variables['RAINNC'][0,:,:]\n",
      "        b.close()\n",
      "    else:\n",
      "        b=nc.Dataset(i,\"r\")\n",
      "        ref3 = ref3 + b.variables['RAINNC'][0,:,:]\n",
      "        b.close()\n",
      "    j = j+1\n",
      "j = 0\n",
      "    \n",
      "for i in glob.glob(\"/Volumes/External/aereinha/dumasmeso1/outputdfi3hr/2010051806/precip/wrf_precip_d01_2010-05-*\"):\n",
      "    if j ==0:\n",
      "        b=nc.Dataset(i,\"r\")\n",
      "        ref6 = b.variables['RAINNC'][0,:,:]\n",
      "        b.close()\n",
      "    else:\n",
      "        b=nc.Dataset(i,\"r\")\n",
      "        ref6 = ref6 + b.variables['RAINNC'][0,:,:]\n",
      "        b.close()\n",
      "    j = j+1\n",
      "j = 0\n",
      "\n",
      "for i in glob.glob(\"/Volumes/External/aereinha/dumasmeso1/outputdfi3hr/2010051809/precip/wrf_precip_d01_2010-05-*\"):\n",
      "    if j ==0:\n",
      "        b=nc.Dataset(i,\"r\")\n",
      "        ref9 = b.variables['RAINNC'][0,:,:]\n",
      "        b.close()\n",
      "    else:\n",
      "        b=nc.Dataset(i,\"r\")\n",
      "        ref9 = ref9 + b.variables['RAINNC'][0,:,:]\n",
      "        b.close()\n",
      "    j = j+1\n",
      "j = 0\n",
      "\n",
      "for i in glob.glob(\"/Volumes/External/aereinha/dumasmeso1/outputdfi3hr/2010051812/precip/wrf_precip_d01_2010-05-*\"):\n",
      "    if j ==0:\n",
      "        b=nc.Dataset(i,\"r\")\n",
      "        ref12 = b.variables['RAINNC'][0,:,:]\n",
      "        b.close()\n",
      "    else:\n",
      "        b=nc.Dataset(i,\"r\")\n",
      "        ref12 = ref12 + b.variables['RAINNC'][0,:,:]\n",
      "        b.close()\n",
      "    j = j+1\n",
      "j = 0\n",
      "\n",
      "for i in glob.glob(\"/Volumes/External/aereinha/dumasmeso1/outputdfi3hr/2010051815/precip/wrf_precip_d01_2010-05-*\"):\n",
      "    if j ==0:\n",
      "        b=nc.Dataset(i,\"r\")\n",
      "        ref15 = b.variables['RAINNC'][0,:,:]\n",
      "        b.close()\n",
      "    else:\n",
      "        b=nc.Dataset(i,\"r\")\n",
      "        ref15 = ref15 + b.variables['RAINNC'][0,:,:]\n",
      "        b.close()\n",
      "    j = j+1\n",
      "j = 0\n",
      "\n",
      "for i in glob.glob(\"/Volumes/External/aereinha/dumasmeso1/outputdfi3hr/2010051818/precip/wrf_precip_d01_2010-05-*\"):\n",
      "    if j ==0:\n",
      "        b=nc.Dataset(i,\"r\")\n",
      "        ref18 = b.variables['RAINNC'][0,:,:]\n",
      "        b.close()\n",
      "    else:\n",
      "        b=nc.Dataset(i,\"r\")\n",
      "        ref18 = ref18 + b.variables['RAINNC'][0,:,:]\n",
      "        b.close()\n",
      "    j = j+1\n",
      "j = 0\n",
      "for i in glob.glob(\"/Volumes/External/aereinha/dumasmeso1/outputdfi3hr/2010051821/precip/wrf_precip_d01_2010-05-*\"):\n",
      "    if j ==0:\n",
      "        b=nc.Dataset(i,\"r\")\n",
      "        ref21 = b.variables['RAINNC'][0,:,:]\n",
      "        b.close()\n",
      "    else:\n",
      "        b=nc.Dataset(i,\"r\")\n",
      "        ref21 = ref21 + b.variables['RAINNC'][0,:,:]\n",
      "        b.close()\n",
      "    j = j+1\n",
      "j = 0\n",
      "for i in glob.glob(\"/Volumes/External/aereinha/dumasmeso1/outputdfi3hr/2010051900/precip/wrf_precip_d01_2010-05-*\"):\n",
      "    if j ==0:\n",
      "        b=nc.Dataset(i,\"r\")\n",
      "        ref24 = b.variables['RAINNC'][0,:,:]\n",
      "        b.close()\n",
      "    else:\n",
      "        b=nc.Dataset(i,\"r\")\n",
      "        ref24 = ref24 + b.variables['RAINNC'][0,:,:]\n",
      "        b.close()\n",
      "    j = j+1\n",
      "\n",
      "refmeandfi0 = ref0/50.\n",
      "refmeandfi3 = ref3/50.\n",
      "refmeandfi6 = ref6/50.\n",
      "refmeandfi9 = ref9/50.\n",
      "refmeandfi12 = ref12/50.\n",
      "refmeandfi15 = ref15/50.\n",
      "refmeandfi18 = ref18/50.\n",
      "refmeandfi21 = ref21/50.\n",
      "refmeandfi24 = ref24/50.\n",
      "\n",
      "#refmaxdfi = np.maximum.reduce(refmeandfi0)"
     ],
     "language": "python",
     "metadata": {},
     "outputs": [],
     "prompt_number": 28
    },
    {
     "cell_type": "code",
     "collapsed": false,
     "input": [
      "shapefilelocation=\"/Volumes/External/aereinha/shapefiles\"\n",
      "m=Basemap(resolution='i',projection='lcc',llcrnrlon=xlong[0,0],llcrnrlat=xlat[0,0],urcrnrlon=xlong[-1,-1],urcrnrlat=xlat[-1,-1],lat_1=a.variables['TRUELAT1'][:],lat_2=a.variables['TRUELAT2'][:],lat_0=a.variables['CEN_LAT'][:],lon_0=a.variables['STAND_LON'][:])\n",
      "m.drawcoastlines()\n",
      "m.drawstates()\n",
      "m.drawcountries()\n",
      "reftotal = refmeandfi0+refmeandfi3+refmeandfi6+refmeandfi9+refmeandfi12+refmeandfi15+refmeandfi18+refmeandfi21+refmeandfi24\n",
      "#m.readshapefile(shapefilelocation+'/counties/c_03ap12', name='counties')\n",
      "x,y = m(xlong,xlat)\n",
      "levs = np.arange(-4.,4.5,0.5)\n",
      "#cs = m.barbs(x,y,Ub[::5,1::5]*1.94384,Vb[1::5,::5]*1.94384,barbcolor='green')\n",
      "#cs=m.contourf(x,y,refmeandfi21,levels=[0.01,0.1,0.5,1.,2.,3.,4.,5.,7.5,10.,15.,20.,30.,40.,50.,np.max(refmeandfi0)],colors=pcp_cmap)\n",
      "c = nc.Dataset(\"/Volumes/External/aereinha/dumasmeso1/outputdfi3hr/2010051818/precip/wrf_precip_d01_2010-05-18_21:00:00_39\",\"r\")\n",
      "#c = nc.Dataset(\"/Volumes/External/aereinha/dumasmeso1/outputnodfi3hr/2010051818/precip/wrf_precip_d01_2010-05-18_21:00:00_8\",\"r\")\n",
      "dbz = c.variables['REFL_10CM'][0,0,:,:]\n",
      "cs = m.contourf(x,y,T,cmap=get_cmap('RdBu_r'),levels=levs)\n",
      "plt.colorbar()\n",
      "plt.savefig(\"Thdiff00.png\",dpi=300)\n",
      "plt.show()"
     ],
     "language": "python",
     "metadata": {},
     "outputs": [
      {
       "output_type": "display_data",
       "png": "[encoded data removed]",
       "text": [
        "<matplotlib.figure.Figure at 0x10f093550>"
       ]
      }
     ],
     "prompt_number": 108
    },
    {
     "cell_type": "code",
     "collapsed": false,
     "input": [
      " print(a.variables.keys())\n",
      "a.variables['PH_d01'].shape"
     ],
     "language": "python",
     "metadata": {},
     "outputs": [
      {
       "output_type": "stream",
       "stream": "stdout",
       "text": [
        "[u'copy', u'CopyMetaData', u'inputnml', u'time', u'DX', u'DY', u'TRUELAT1', u'TRUELAT2', u'STAND_LON', u'CEN_LAT', u'CEN_LON', u'MAP_PROJ', u'PERIODIC_X', u'POLAR', u'DN_d01', u'ZNU_d01', u'ZNW_d01', u'DNW_d01', u'MUB_d01', u'XLONG_d01', u'XLONG_U_d01', u'XLONG_V_d01', u'XLAT_d01', u'XLAT_U_d01', u'XLAT_V_d01', u'level_d01', u'XLAND_d01', u'PHB_d01', u'HGT_d01', u'U_d01', u'V_d01', u'W_d01', u'PH_d01', u'T_d01', u'MU_d01', u'QVAPOR_d01', u'QCLOUD_d01', u'QRAIN_d01', u'QICE_d01', u'QSNOW_d01', u'QGRAUP_d01', u'QNICE_d01', u'QNRAIN_d01', u'U10_d01', u'V10_d01', u'T2_d01', u'Q2_d01', u'PSFC_d01', u'TH2_d01']\n"
       ]
      },
      {
       "output_type": "pyout",
       "prompt_number": 45,
       "text": [
        "(1, 5, 51, 119, 204)"
       ]
      }
     ],
     "prompt_number": 45
    },
    {
     "cell_type": "code",
     "collapsed": false,
     "input": [
      "a = nc.Dataset(\"/Volumes/External/aereinha/glenNcl/glenoutputdfi4.nc\",'r')\n",
      "b = nc.Dataset(\"/Volumes/External/aereinha/glenNcl/glenoutputnodfi4.nc\",'r')\n"
     ],
     "language": "python",
     "metadata": {},
     "outputs": [],
     "prompt_number": 92
    },
    {
     "cell_type": "code",
     "collapsed": false,
     "input": [
      "plt.plot(a.variables['count'][:])"
     ],
     "language": "python",
     "metadata": {},
     "outputs": [
      {
       "output_type": "pyout",
       "prompt_number": 100,
       "text": [
        "[<matplotlib.lines.Line2D at 0x108560990>]"
       ]
      }
     ],
     "prompt_number": 100
    },
    {
     "cell_type": "code",
     "collapsed": false,
     "input": [
      "%pylab osx"
     ],
     "language": "python",
     "metadata": {},
     "outputs": [
      {
       "output_type": "stream",
       "stream": "stdout",
       "text": [
        "\n",
        "Welcome to pylab, a matplotlib-based Python environment [backend: MacOSX].\n",
        "For more information, type 'help(pylab)'.\n"
       ]
      }
     ],
     "prompt_number": 66
    },
    {
     "cell_type": "code",
     "collapsed": false,
     "input": [
      "red = [255./255.,214./255.,181./255.,142./255.,127./255.,99./255.,0./255.,0./255.,0./255.,99./255.,150./255.,198./255.,255./255.,255./255.,255./255.,255./255.,255./255.]\n",
      "blue = [255./255.,255./255.,255./255.,255./255.,255./255.,247./255.,255./255.,150./255.,51./255.,0./255.,0./255.,51./255.,0./255.,0./255.,0./255.,0./255.,0./255.]\n",
      "green = [255./255.,226./255.,201./255.,178./255.,150./255.,112./255.,99./255.,150./255.,198./255.,255./255.,255./255.,255./255.,255./255.,198./255.,160./255.,124./255.,25./255.]\n",
      "#red = red/255.\n",
      "#blue= blue/255.\n",
      "#green = green/255.\n",
      "cmaps = np.dstack((red,green,blue))\n",
      "\n",
      "\n",
      "\n",
      "pcp_cmap = [ #(1.,1.,1.),\\\n",
      "             (0.83921569,.88627451,1.),\\\n",
      "             (0.70980392,.78823529,1.),\\\n",
      "             (0.55686275,.69803922,1.),\\\n",
      "             (0.49803922,.58823529,1.),\\\n",
      "             #(0.38823529,.43921569,.96862745),\\\n",
      "             (0.,0.38823529,1.),\\\n",
      "             (0.,0.58823529,0.58823529),\\\n",
      "             (0.,0.77647059,0.2,),\\\n",
      "             ( 0.38823529,1.,0.),\\\n",
      "             ( 0.58823529,1.,0.),\\\n",
      "             ( 0.77647059,1.,0.2),\\\n",
      "             ( 1.,1.,0.),\\\n",
      "             ( 1.,0.77647059,0.),\\\n",
      "             ( 1.,0.62745098,0.),\\\n",
      "             ( 1.,0.48627451,0.),\\\n",
      "             ( 1.,0.09803922,0.)]\n",
      "print(pcp_cmap)"
     ],
     "language": "python",
     "metadata": {},
     "outputs": [
      {
       "output_type": "stream",
       "stream": "stdout",
       "text": [
        "[(0.83921569, 0.88627451, 1.0), (0.70980392, 0.78823529, 1.0), (0.55686275, 0.69803922, 1.0), (0.49803922, 0.58823529, 1.0), (0.0, 0.38823529, 1.0), (0.0, 0.58823529, 0.58823529), (0.0, 0.77647059, 0.2), (0.38823529, 1.0, 0.0), (0.58823529, 1.0, 0.0), (0.77647059, 1.0, 0.2), (1.0, 1.0, 0.0), (1.0, 0.77647059, 0.0), (1.0, 0.62745098, 0.0), (1.0, 0.48627451, 0.0), (1.0, 0.09803922, 0.0)]\n"
       ]
      }
     ],
     "prompt_number": 3
    },
    {
     "cell_type": "code",
     "collapsed": false,
     "input": [
      "j = 0\n",
      "for i in glob.glob(\"/Volumes/External/aereinha/dumasmeso1/outputdfi3hr/2010051*/precip/wrf_precip_d01_2010-05-*_40\"):\n",
      "    if j ==0:\n",
      "        b=nc.Dataset(i,\"r\")\n",
      "        ref0 = b.variables['RAINNC'][0,:,:]\n",
      "        b.close()\n",
      "    else:\n",
      "        b=nc.Dataset(i,\"r\")\n",
      "        ref0 = ref0 + b.variables['RAINNC'][0,:,:]\n",
      "        b.close()\n",
      "    j = j+1\n",
      "    print i\n",
      "j = 0\n",
      "for i in glob.glob(\"/Volumes/External/aereinha/dumasmeso1/outputnodfi3hr/2010051*/precip/wrf_precip_d01_2010-05-*_13\"):\n",
      "    if j ==0:\n",
      "        b=nc.Dataset(i,\"r\")\n",
      "        refno0 = b.variables['RAINNC'][0,:,:]\n",
      "        b.close()\n",
      "    else:\n",
      "        b=nc.Dataset(i,\"r\")\n",
      "        refno0 = refno0 + b.variables['RAINNC'][0,:,:]\n",
      "        b.close()\n",
      "    j = j+1\n",
      "    print i\n",
      "    "
     ],
     "language": "python",
     "metadata": {},
     "outputs": [
      {
       "output_type": "stream",
       "stream": "stdout",
       "text": [
        "/Volumes/External/aereinha/dumasmeso1/outputdfi3hr/2010051800/precip/wrf_precip_d01_2010-05-18_03:00:00_40\n",
        "/Volumes/External/aereinha/dumasmeso1/outputdfi3hr/2010051803/precip/wrf_precip_d01_2010-05-18_06:00:00_40\n",
        "/Volumes/External/aereinha/dumasmeso1/outputdfi3hr/2010051806/precip/wrf_precip_d01_2010-05-18_09:00:00_40\n",
        "/Volumes/External/aereinha/dumasmeso1/outputdfi3hr/2010051809/precip/wrf_precip_d01_2010-05-18_12:00:00_40\n",
        "/Volumes/External/aereinha/dumasmeso1/outputdfi3hr/2010051812/precip/wrf_precip_d01_2010-05-18_15:00:00_40\n",
        "/Volumes/External/aereinha/dumasmeso1/outputdfi3hr/2010051815/precip/wrf_precip_d01_2010-05-18_18:00:00_40\n",
        "/Volumes/External/aereinha/dumasmeso1/outputdfi3hr/2010051818/precip/wrf_precip_d01_2010-05-18_21:00:00_40\n",
        "/Volumes/External/aereinha/dumasmeso1/outputdfi3hr/2010051821/precip/wrf_precip_d01_2010-05-19_00:00:00_40\n",
        "/Volumes/External/aereinha/dumasmeso1/outputdfi3hr/2010051900/precip/wrf_precip_d01_2010-05-19_03:00:00_40\n",
        "/Volumes/External/aereinha/dumasmeso1/outputnodfi3hr/2010051800/precip/wrf_precip_d01_2010-05-18_03:00:00_13\n",
        "/Volumes/External/aereinha/dumasmeso1/outputnodfi3hr/2010051803/precip/wrf_precip_d01_2010-05-18_06:00:00_13\n",
        "/Volumes/External/aereinha/dumasmeso1/outputnodfi3hr/2010051806/precip/wrf_precip_d01_2010-05-18_09:00:00_13"
       ]
      },
      {
       "output_type": "stream",
       "stream": "stdout",
       "text": [
        "\n",
        "/Volumes/External/aereinha/dumasmeso1/outputnodfi3hr/2010051809/precip/wrf_precip_d01_2010-05-18_12:00:00_13\n",
        "/Volumes/External/aereinha/dumasmeso1/outputnodfi3hr/2010051812/precip/wrf_precip_d01_2010-05-18_15:00:00_13\n",
        "/Volumes/External/aereinha/dumasmeso1/outputnodfi3hr/2010051815/precip/wrf_precip_d01_2010-05-18_18:00:00_13\n",
        "/Volumes/External/aereinha/dumasmeso1/outputnodfi3hr/2010051818/precip/wrf_precip_d01_2010-05-18_21:00:00_13"
       ]
      },
      {
       "output_type": "stream",
       "stream": "stdout",
       "text": [
        "\n",
        "/Volumes/External/aereinha/dumasmeso1/outputnodfi3hr/2010051821/precip/wrf_precip_d01_2010-05-19_00:00:00_13\n",
        "/Volumes/External/aereinha/dumasmeso1/outputnodfi3hr/2010051900/precip/wrf_precip_d01_2010-05-19_03:00:00_13\n"
       ]
      }
     ],
     "prompt_number": 32
    },
    {
     "cell_type": "code",
     "collapsed": false,
     "input": [
      "#reftotal = refmeandfi0+refmeandfi3+refmeandfi6+refmeandfi9+refmeandfi12+refmeandfi15+refmeandfi18+refmeandfi21+refmeandfi24\n",
      "fig=plt.figure()\n",
      "#plt.subplot(2,1,1)\n",
      "plt.title(\"No-DFI\")\n",
      "m=Basemap(resolution='i',projection='lcc',llcrnrlon=xlong[0,0],llcrnrlat=xlat[0,0],urcrnrlon=xlong[-1,-1],urcrnrlat=xlat[-1,-1],lat_1=a.variables['TRUELAT1'][:],lat_2=a.variables['TRUELAT2'][:],lat_0=a.variables['CEN_LAT'][:],lon_0=a.variables['STAND_LON'][:])\n",
      "m.drawcoastlines()\n",
      "m.drawstates()\n",
      "m.drawcountries()\n",
      "x,y = m(xlong[:,:],xlat[:,:])\n",
      "cs2 = m.contourf(x,y,refno0,colors=pcp_cmap,levels=[0.01,0.1,0.5,1.,2.,3.,4.,5.,7.5,10.,15.,20.,30.,40.,50.,np.max(ref0)])\n",
      "#plt.colorbar(orientation='horizontal')\n",
      "savefig('precinodfi.pdf',dpi=300)\n",
      "#plt.subplot(2,1,2)\n",
      "fig=plt.figure()\n",
      "plt.title(\"DFI\")\n",
      "m=Basemap(resolution='i',projection='lcc',llcrnrlon=xlong[0,0],llcrnrlat=xlat[0,0],urcrnrlon=xlong[-1,-1],urcrnrlat=xlat[-1,-1],lat_1=a.variables['TRUELAT1'][:],lat_2=a.variables['TRUELAT2'][:],lat_0=a.variables['CEN_LAT'][:],lon_0=a.variables['STAND_LON'][:])\n",
      "m.drawcoastlines()\n",
      "m.drawstates()\n",
      "m.drawcountries()\n",
      "x,y = m(xlong[:,:],xlat[:,:])\n",
      "cs1 = m.contourf(x,y,ref0,colors=pcp_cmap,levels=[0.01,0.1,0.5,1.,2.,3.,4.,5.,7.5,10.,15.,20.,30.,40.,50.,np.max(ref0)])\n",
      "plt.colorbar(orientation='horizontal')\n",
      "savefig('precipdfi.pdf',dpi=300)"
     ],
     "language": "python",
     "metadata": {},
     "outputs": [
      {
       "output_type": "display_data",
       "png": "[encoded data removed]",
       "text": [
        "<matplotlib.figure.Figure at 0x1143475d0>"
       ]
      },
      {
       "output_type": "display_data",
       "png": "[encoded data removed]",
       "text": [
        "<matplotlib.figure.Figure at 0x112259b50>"
       ]
      }
     ],
     "prompt_number": 45
    },
    {
     "cell_type": "code",
     "collapsed": false,
     "input": [
      "c = nc.Dataset(\"/Volumes/External/aereinha/dumas1kmMOR/cold1dumas/201005182326/Posterior_Diag.nc\",\"r\")\n",
      "a = nc.Dataset(\"/Volumes/External/aereinha/dumas1kmMOR/cold1dumas/201005182326/Posterior_Diag.nc\",\"r\")\n",
      "#c = nc.Dataset(\"/Volumes/External/aereinha/dumas1kmMY/201005182336/Posterior_Diag.nc\",\"r\")\n",
      "#a = nc.Dataset(\"/Volumes/External/aereinha/dumas1kmMY/201005182336/Posterior_Diag.nc\",\"r\")\n",
      "\n",
      "#a = nc.Dataset(\"/Volumes/Stor//Prior_Diag.nc\",\"r\")\n",
      "b = nc.Dataset(\"/Volumes/External/aereinha/dumas1kmMOR/cold1dumas/201005182324/precip/wrf_precip_d01_2010-05-18_23:26:00_25\",\"r\")\n",
      "#dbz = b.variables['REFL_10CM'][0,:,:,:]\n",
      "xlat = c.variables['XLAT_d01'][:]\n",
      "xlong = c.variables['XLONG_d01'][:]\n",
      "U = c.variables['U_d01'][0,0,0,:,:]\n",
      "V = c.variables['V_d01'][0,0,0,:,:]\n",
      "\n",
      "qgraupel = c.variables['QGRAUP_d01'][0,0,:,:,:]\n",
      "print(xlat.shape)\n",
      "T = c.variables['T_d01'][0,0,:,:,:]#-b.variables['W_d01'][0,0,20,:,:]\n",
      "dbz = b.variables['REFL_10CM'][0,:,:,:]\n",
      "#shape = xlat.shape\n",
      "xdim = len(c.variables['XLAT_d01'][0,:])\n",
      "ydim = len(c.variables['XLONG_d01'][:,0])"
     ],
     "language": "python",
     "metadata": {},
     "outputs": [
      {
       "output_type": "stream",
       "stream": "stdout",
       "text": [
        "(239, 269)\n"
       ]
      }
     ],
     "prompt_number": 38
    },
    {
     "cell_type": "code",
     "collapsed": false,
     "input": [],
     "language": "python",
     "metadata": {},
     "outputs": []
    },
    {
     "cell_type": "code",
     "collapsed": false,
     "input": [
      "ymin=0\n",
      "ymax=238\n",
      "xmin=0\n",
      "xmax=268\n",
      "ymin=80 #MY\n",
      "ymax=160 #MY\n",
      "xmin=100 #MY\n",
      "xmax=200 #MY\n",
      "fig = plt.figure()\n",
      "x = np.arange(xmin,xmax,1)\n",
      "z = np.arange(0,50,1)\n",
      "qvapor = c.variables['QVAPOR_d01'][0,0,0,:,:]\n",
      "Tv = ((T+300.)*(1.0+0.608*qvapor))-300.0\n",
      "print dbz.shape\n",
      "fig = plt.contourf(dbz[0:50,105,100:200],levels=np.arange(-35.,70.,5.),cmap=ct.Carbone42)\n",
      "plt.colorbar()\n",
      "fig = plt.contour(c.variables['W_d01'][0,0,0:50,100,120:220])\n",
      "\n",
      "#fig = plt.contour(Tv[0:50,100,120:220]-8.,levels=np.arange(-20,20,1.))\n",
      "plt.colorbar()\n",
      "plt.show()"
     ],
     "language": "python",
     "metadata": {},
     "outputs": [
      {
       "output_type": "stream",
       "stream": "stdout",
       "text": [
        "(52, 239, 269)\n"
       ]
      }
     ],
     "prompt_number": 52
    },
    {
     "cell_type": "code",
     "collapsed": false,
     "input": [
      "ymin=0\n",
      "ymax=238\n",
      "xmin=0\n",
      "xmax=268\n",
      "ymin=80 #MY\n",
      "ymax=160 #MY\n",
      "xmin=100 #MY\n",
      "xmax=200 #MY\n",
      "shapefilelocation=\"/Volumes/Raid5/aereinha/shapefiles\"\n",
      "m=Basemap(resolution='i',projection='lcc',llcrnrlon=xlong[ymin,xmin],llcrnrlat=xlat[ymin,xmin],urcrnrlon=xlong[ymax,xmax],urcrnrlat=xlat[ymax,xmax],lat_1=a.variables['TRUELAT1'][:],lat_2=a.variables['TRUELAT2'][:],lat_0=a.variables['CEN_LAT'][:],lon_0=a.variables['STAND_LON'][:])\n",
      "m.drawcoastlines()\n",
      "#m.drawstates()\n",
      "m.drawcountries()\n",
      "m.readshapefile(shapefilelocation+'/UScounties/UScounties', name='UScounties')\n",
      "qrain = c.variables['QRAIN_d01'][0,0,:,:]\n",
      "qvapor = c.variables['QVAPOR_d01'][0,0,0,:,:]\n",
      "Tv = ((T+300.)*(1.0+0.608*qvapor))-300.0\n",
      "\n",
      "x,y = m(xlong[ymin:ymax,xmin:xmax],xlat[ymin:ymax,xmin:xmax])\n",
      "maxqg = np.max(qgraupel[0:18,ymin:ymax,xmin:xmax],axis=0)\n",
      "maxqr = np.max(qrain[:,ymin:ymax,xmin:xmax],axis=0)\n",
      "levs = np.arange(-13.,13.,0.5)\n",
      "#cs = m.barbs(x,y,Ub[::5,1::5]*1.94384,Vb[1::5,::5]*1.94384,barbcolor='green')\n",
      "#cs=m.contourf(x,y,refmeandfi21,levels=[0.01,0.1,0.5,1.,2.,3.,4.,5.,7.5,10.,15.,20.,30.,40.,50.,np.max(refmeandfi0)],colors=pcp_cmap)\n",
      "#c = nc.Dataset(\"/Volumes/External/aereinha/dumasmeso1 outputnodfi3hr/2010051818/precip/wrf_precip_d01_2010-05-18_21:00:00_8\",\"r\")\n",
      "#cs = m.contourf(x,y,Tv[ymin:ymax,xmin:xmax]-8.,levels=levs,cmap=get_cmap('RdBu_r'))#,levels=np.arange(-15.,60.,5.),cmap=ct.Carbone42)#,levels=levs)\n",
      "#cs = m.contourf(x,y,maxqr[:,:],levels=np.arange(0.001,0.0075,0.0005))#,cmap=ct.Carbone42)#,levels=levs)\n",
      "#plt.colorbar()\n",
      "cs = m.contourf(x,y,dbz[0,ymin:ymax,xmin:xmax],levels=np.arange(10.,70.,5.),cmap=ct.Carbone42)#,levels=levs)\n",
      "plt.colorbar()\n",
      "\n",
      "cs = m.contour(x,y,np.max(c.variables['W_d01'][0,0,0:10,ymin:ymax,xmin:xmax],axis=0),levels=[2.0],colors='c',linewidths=2.0)\n",
      "#cs = m.contour(x,y,maxqg[:,:],levels=np.arange(0.001,0.0075,0.0005))#,cmap=ct.Carbone42)#,levels=levs)\n",
      "\n",
      "#plt.colorbar()\n",
      "\n",
      "#U = a.variables['U_d01'][0,0,0,ymin:ymax,xmin:xmax]\n",
      "#V = a.variables['V_d01'][0,0,0,ymin:ymax,xmin:xmax]\n",
      "#cs = m.quiver(x[::3],y[::3],U[::3,::3],V[::3,::3],pivot='mid',units='inches')\n",
      "\n",
      "plt.savefig(\"/Users/aereinha/aereinharaid5/Dropbox/DBZwWMY.png\",bbox_inches='tight',pad_inches=0,dpi=300)\n",
      "plt.show()"
     ],
     "language": "python",
     "metadata": {},
     "outputs": [
      {
       "output_type": "display_data",
       "png": "[encoded data removed]",
       "text": [
        "<matplotlib.figure.Figure at 0x108c94a50>"
       ]
      }
     ],
     "prompt_number": 106
    },
    {
     "cell_type": "code",
     "collapsed": false,
     "input": [
      "}w\n",
      "\n",
      "%pylab inline\n"
     ],
     "language": "python",
     "metadata": {},
     "outputs": [
      {
       "ename": "SyntaxError",
       "evalue": "invalid syntax (<ipython-input-51-d2b7f394d9f4>, line 1)",
       "output_type": "pyerr",
       "traceback": [
        "\u001b[0;36m  File \u001b[0;32m\"<ipython-input-51-d2b7f394d9f4>\"\u001b[0;36m, line \u001b[0;32m1\u001b[0m\n\u001b[0;31m    }w\u001b[0m\n\u001b[0m    ^\u001b[0m\n\u001b[0;31mSyntaxError\u001b[0m\u001b[0;31m:\u001b[0m invalid syntax\n"
       ]
      }
     ],
     "prompt_number": 51
    },
    {
     "cell_type": "code",
     "collapsed": true,
     "input": [
      "for i in glob.glob(\"/Volumes/External/aereinha/dumas1kmMOR/cold1dumas/2010051*\"):\n",
      "    a = nc.Dataset(i+\"/Posterior_Diag.nc\",\"r\")\n",
      "    #a = nc.Dataset(\"/Volumes/External/aereinha/dumas1kmMOR/cold1dumas/201005182100/Posterior_Diag.nc\",\"r\")\n",
      "    #b = nc.Dataset(i,\"r\")\n",
      "    #dbz = b.variables['REFL_10CM'][0,:,:,:]\n",
      "    xlat = a.variables['XLAT_d01'][:]\n",
      "    xlong = a.variables['XLONG_d01'][:]\n",
      "    U = a.variables['U_d01'][0,0,0,:,:]\n",
      "    V = a.variables['V_d01'][0,0,0,:,:]\n",
      "    m = plt.figure()\n",
      "    qgraupel = a.variables['QGRAUP_d01'][0,0,:,:,:]\n",
      "    print(xlat.shape)\n",
      "    T = a.variables['T_d01'][0,0,0,:,:]#-b.variables['W_d01'][0,0,20,:,:]\n",
      "    #dbz = b.variables['REFL_10CM'][0,:,:,:]\n",
      "    #shape = xlat.shape\n",
      "    xdim = len(a.variables['XLAT_d01'][0,:])\n",
      "    ydim = len(a.variables['XLONG_d01'][:,0])\n",
      "    ymin=0\n",
      "    ymax=238\n",
      "    xmin=0\n",
      "    xmax=268\n",
      "    \n",
      "    shapefilelocation=\"/Volumes/Raid5/aereinha/shapefiles\"\n",
      "    m=Basemap(resolution='i',projection='lcc',llcrnrlon=xlong[ymin,xmin],llcrnrlat=xlat[ymin,xmin],urcrnrlon=xlong[ymax,xmax],urcrnrlat=xlat[ymax,xmax],lat_1=a.variables['TRUELAT1'][:],lat_2=a.variables['TRUELAT2'][:],lat_0=a.variables['CEN_LAT'][:],lon_0=a.variables['STAND_LON'][:])\n",
      "    #m.drawcoastlines()\n",
      "    #m.drawstates()\n",
      "    #m.drawcountries()\n",
      "    m.readshapefile(shapefilelocation+'/UScounties/UScounties', name='UScounties')\n",
      "    qrain = a.variables['QRAIN_d01'][0,0,:,:,:]\n",
      "    x,y = m(xlong[ymin:ymax,xmin:xmax],xlat[ymin:ymax,xmin:xmax])\n",
      "    maxqg = np.max(qgraupel[0:18,:,:],axis=0)\n",
      "    maxqr = np.max(qrain[:,:,:],axis=0)\n",
      "    levs = np.arange(-6.,30.,2)\n",
      "    #cs = m.barbs(x,y,Ub[::5,1::5]*1.94384,Vb[1::5,::5]*1.94384,barbcolor='green')\n",
      "    #cs=m.contourf(x,y,refmeandfi21,levels=[0.01,0.1,0.5,1.,2.,3.,4.,5.,7.5,10.,15.,20.,30.,40.,50.,np.max(refmeandfi0)],colors=pcp_cmap)\n",
      "    #c = nc.Dataset(\"/Volumes/External/aereinha/dumasmeso1/outputnodfi3hr/2010051818/precip/wrf_precip_d01_2010-05-18_21:00:00_8\",\"r\")\n",
      "    cs = m.contourf(x,y,T[ymin:ymax,xmin:xmax]-6.,cmap=get_cmap('RdBu_r'),levels=np.arange(-12.,12.,1.))#,cmap=ct.Carbone42)#,levels=levs)\n",
      "    plt.colorbar()\n",
      "    #cs = m.contour(x,y,maxqr[ymin:ymax,xmin:xmax],levels=[0.0005])\n",
      "    cs1 = m.contour(x,y,np.max(a.variables['W_d01'][0,0,:,ymin:ymax,xmin:xmax],axis=0),levels=[5.])\n",
      "    #cs = m.contourf(x,y,dbz[0,ymin:ymax,xmin:xmax],levels=np.arange(-30.,70.,5.),cmap=ct.Carbone42)#,levels=levs)\n",
      "#    plt.colorbar()\n",
      "    #plt.colorbar()\n",
      "    # plt.clabel(cs1,inline=1,fontsize=6)\n",
      "    #U = a.variables['U_d01'][0,0,0,ymin:ymax,xmin:xmax]\n",
      "    #V = a.variables['V_d01'][0,0,0,ymin:ymax,xmin:xmax]\n",
      "    #cs = m.quiver(x[::3],y[::3],U[::3,::3],V[::3,::3],pivot='mid',units='inches')\n",
      "    #plt.show()\n",
      "    plt.savefig(\"TWMOR\"+i[-4::]+\".png\",dpi=300)#i[-4::]+\"MOR.png\",dpi=300) #i[-4::]\n",
      "    plt.close()\n",
      "    del(m)\n",
      "    del(cs)\n",
      "    a.close()\n"
     ],
     "language": "python",
     "metadata": {},
     "outputs": [
      {
       "output_type": "stream",
       "stream": "stdout",
       "text": [
        "(239, 269)\n",
        "(239, 269)"
       ]
      },
      {
       "output_type": "stream",
       "stream": "stdout",
       "text": [
        "\n",
        "(239, 269)"
       ]
      },
      {
       "output_type": "stream",
       "stream": "stdout",
       "text": [
        "\n",
        "(239, 269)"
       ]
      },
      {
       "output_type": "stream",
       "stream": "stdout",
       "text": [
        "\n",
        "(239, 269)"
       ]
      },
      {
       "output_type": "stream",
       "stream": "stdout",
       "text": [
        "\n",
        "(239, 269)"
       ]
      },
      {
       "output_type": "stream",
       "stream": "stdout",
       "text": [
        "\n",
        "(239, 269)"
       ]
      },
      {
       "output_type": "stream",
       "stream": "stdout",
       "text": [
        "\n",
        "(239, 269)"
       ]
      },
      {
       "output_type": "stream",
       "stream": "stdout",
       "text": [
        "\n",
        "(239, 269)"
       ]
      },
      {
       "output_type": "stream",
       "stream": "stdout",
       "text": [
        "\n",
        "(239, 269)"
       ]
      },
      {
       "output_type": "stream",
       "stream": "stdout",
       "text": [
        "\n",
        "(239, 269)"
       ]
      },
      {
       "output_type": "stream",
       "stream": "stdout",
       "text": [
        "\n",
        "(239, 269)"
       ]
      },
      {
       "output_type": "stream",
       "stream": "stdout",
       "text": [
        "\n",
        "(239, 269)"
       ]
      },
      {
       "output_type": "stream",
       "stream": "stdout",
       "text": [
        "\n",
        "(239, 269)"
       ]
      },
      {
       "output_type": "stream",
       "stream": "stdout",
       "text": [
        "\n",
        "(239, 269)"
       ]
      },
      {
       "output_type": "stream",
       "stream": "stdout",
       "text": [
        "\n",
        "(239, 269)"
       ]
      },
      {
       "output_type": "stream",
       "stream": "stdout",
       "text": [
        "\n",
        "(239, 269)"
       ]
      },
      {
       "output_type": "stream",
       "stream": "stdout",
       "text": [
        "\n",
        "(239, 269)"
       ]
      },
      {
       "output_type": "stream",
       "stream": "stdout",
       "text": [
        "\n",
        "(239, 269)"
       ]
      },
      {
       "output_type": "stream",
       "stream": "stdout",
       "text": [
        "\n",
        "(239, 269)"
       ]
      },
      {
       "output_type": "stream",
       "stream": "stdout",
       "text": [
        "\n",
        "(239, 269)"
       ]
      },
      {
       "output_type": "stream",
       "stream": "stdout",
       "text": [
        "\n",
        "(239, 269)"
       ]
      },
      {
       "output_type": "stream",
       "stream": "stdout",
       "text": [
        "\n",
        "(239, 269)"
       ]
      },
      {
       "output_type": "stream",
       "stream": "stdout",
       "text": [
        "\n",
        "(239, 269)"
       ]
      },
      {
       "output_type": "stream",
       "stream": "stdout",
       "text": [
        "\n",
        "(239, 269)"
       ]
      },
      {
       "output_type": "stream",
       "stream": "stdout",
       "text": [
        "\n",
        "(239, 269)"
       ]
      },
      {
       "output_type": "stream",
       "stream": "stdout",
       "text": [
        "\n",
        "(239, 269)"
       ]
      },
      {
       "output_type": "stream",
       "stream": "stdout",
       "text": [
        "\n",
        "(239, 269)"
       ]
      },
      {
       "output_type": "stream",
       "stream": "stdout",
       "text": [
        "\n",
        "(239, 269)"
       ]
      },
      {
       "output_type": "stream",
       "stream": "stdout",
       "text": [
        "\n",
        "(239, 269)"
       ]
      },
      {
       "output_type": "stream",
       "stream": "stdout",
       "text": [
        "\n",
        "(239, 269)"
       ]
      },
      {
       "output_type": "stream",
       "stream": "stdout",
       "text": [
        "\n",
        "(239, 269)"
       ]
      },
      {
       "output_type": "stream",
       "stream": "stdout",
       "text": [
        "\n",
        "(239, 269)"
       ]
      },
      {
       "output_type": "stream",
       "stream": "stdout",
       "text": [
        "\n",
        "(239, 269)"
       ]
      },
      {
       "output_type": "stream",
       "stream": "stdout",
       "text": [
        "\n",
        "(239, 269)"
       ]
      },
      {
       "output_type": "stream",
       "stream": "stdout",
       "text": [
        "\n",
        "(239, 269)"
       ]
      },
      {
       "output_type": "stream",
       "stream": "stdout",
       "text": [
        "\n",
        "(239, 269)"
       ]
      },
      {
       "output_type": "stream",
       "stream": "stdout",
       "text": [
        "\n",
        "(239, 269)"
       ]
      },
      {
       "output_type": "stream",
       "stream": "stdout",
       "text": [
        "\n",
        "(239, 269)"
       ]
      },
      {
       "output_type": "stream",
       "stream": "stdout",
       "text": [
        "\n",
        "(239, 269)"
       ]
      },
      {
       "output_type": "stream",
       "stream": "stdout",
       "text": [
        "\n",
        "(239, 269)"
       ]
      },
      {
       "output_type": "stream",
       "stream": "stdout",
       "text": [
        "\n",
        "(239, 269)"
       ]
      },
      {
       "output_type": "stream",
       "stream": "stdout",
       "text": [
        "\n",
        "(239, 269)"
       ]
      },
      {
       "output_type": "stream",
       "stream": "stdout",
       "text": [
        "\n",
        "(239, 269)"
       ]
      },
      {
       "output_type": "stream",
       "stream": "stdout",
       "text": [
        "\n",
        "(239, 269)"
       ]
      },
      {
       "output_type": "stream",
       "stream": "stdout",
       "text": [
        "\n",
        "(239, 269)"
       ]
      },
      {
       "output_type": "stream",
       "stream": "stdout",
       "text": [
        "\n",
        "(239, 269)"
       ]
      },
      {
       "output_type": "stream",
       "stream": "stdout",
       "text": [
        "\n",
        "(239, 269)"
       ]
      },
      {
       "output_type": "stream",
       "stream": "stdout",
       "text": [
        "\n",
        "(239, 269)"
       ]
      },
      {
       "output_type": "stream",
       "stream": "stdout",
       "text": [
        "\n",
        "(239, 269)"
       ]
      },
      {
       "output_type": "stream",
       "stream": "stdout",
       "text": [
        "\n",
        "(239, 269)"
       ]
      },
      {
       "output_type": "stream",
       "stream": "stdout",
       "text": [
        "\n",
        "(239, 269)"
       ]
      },
      {
       "output_type": "stream",
       "stream": "stdout",
       "text": [
        "\n",
        "(239, 269)"
       ]
      },
      {
       "output_type": "stream",
       "stream": "stdout",
       "text": [
        "\n",
        "(239, 269)"
       ]
      },
      {
       "output_type": "stream",
       "stream": "stdout",
       "text": [
        "\n",
        "(239, 269)"
       ]
      },
      {
       "output_type": "stream",
       "stream": "stdout",
       "text": [
        "\n",
        "(239, 269)"
       ]
      },
      {
       "output_type": "stream",
       "stream": "stdout",
       "text": [
        "\n",
        "(239, 269)"
       ]
      },
      {
       "output_type": "stream",
       "stream": "stdout",
       "text": [
        "\n",
        "(239, 269)"
       ]
      },
      {
       "output_type": "stream",
       "stream": "stdout",
       "text": [
        "\n",
        "(239, 269)"
       ]
      },
      {
       "output_type": "stream",
       "stream": "stdout",
       "text": [
        "\n",
        "(239, 269)"
       ]
      },
      {
       "output_type": "stream",
       "stream": "stdout",
       "text": [
        "\n",
        "(239, 269)"
       ]
      },
      {
       "output_type": "stream",
       "stream": "stdout",
       "text": [
        "\n",
        "(239, 269)"
       ]
      },
      {
       "output_type": "stream",
       "stream": "stdout",
       "text": [
        "\n",
        "(239, 269)"
       ]
      },
      {
       "output_type": "stream",
       "stream": "stdout",
       "text": [
        "\n",
        "(239, 269)"
       ]
      },
      {
       "output_type": "stream",
       "stream": "stdout",
       "text": [
        "\n",
        "(239, 269)"
       ]
      },
      {
       "output_type": "stream",
       "stream": "stdout",
       "text": [
        "\n",
        "(239, 269)"
       ]
      },
      {
       "output_type": "stream",
       "stream": "stdout",
       "text": [
        "\n",
        "(239, 269)"
       ]
      },
      {
       "output_type": "stream",
       "stream": "stdout",
       "text": [
        "\n",
        "(239, 269)"
       ]
      },
      {
       "output_type": "stream",
       "stream": "stdout",
       "text": [
        "\n",
        "(239, 269)"
       ]
      },
      {
       "output_type": "stream",
       "stream": "stdout",
       "text": [
        "\n",
        "(239, 269)"
       ]
      },
      {
       "output_type": "stream",
       "stream": "stdout",
       "text": [
        "\n",
        "(239, 269)"
       ]
      },
      {
       "output_type": "stream",
       "stream": "stdout",
       "text": [
        "\n",
        "(239, 269)"
       ]
      },
      {
       "output_type": "stream",
       "stream": "stdout",
       "text": [
        "\n",
        "(239, 269)"
       ]
      },
      {
       "output_type": "stream",
       "stream": "stdout",
       "text": [
        "\n",
        "(239, 269)"
       ]
      },
      {
       "output_type": "stream",
       "stream": "stdout",
       "text": [
        "\n",
        "(239, 269)"
       ]
      },
      {
       "output_type": "stream",
       "stream": "stdout",
       "text": [
        "\n",
        "(239, 269)"
       ]
      },
      {
       "output_type": "stream",
       "stream": "stdout",
       "text": [
        "\n",
        "(239, 269)"
       ]
      },
      {
       "output_type": "stream",
       "stream": "stdout",
       "text": [
        "\n",
        "(239, 269)"
       ]
      },
      {
       "output_type": "stream",
       "stream": "stdout",
       "text": [
        "\n",
        "(239, 269)"
       ]
      },
      {
       "output_type": "stream",
       "stream": "stdout",
       "text": [
        "\n",
        "(239, 269)"
       ]
      },
      {
       "output_type": "stream",
       "stream": "stdout",
       "text": [
        "\n",
        "(239, 269)"
       ]
      },
      {
       "output_type": "stream",
       "stream": "stdout",
       "text": [
        "\n",
        "(239, 269)"
       ]
      },
      {
       "output_type": "stream",
       "stream": "stdout",
       "text": [
        "\n",
        "(239, 269)"
       ]
      },
      {
       "output_type": "stream",
       "stream": "stdout",
       "text": [
        "\n",
        "(239, 269)"
       ]
      },
      {
       "output_type": "stream",
       "stream": "stdout",
       "text": [
        "\n",
        "(239, 269)"
       ]
      },
      {
       "output_type": "stream",
       "stream": "stdout",
       "text": [
        "\n",
        "(239, 269)"
       ]
      },
      {
       "output_type": "stream",
       "stream": "stdout",
       "text": [
        "\n",
        "(239, 269)"
       ]
      },
      {
       "output_type": "stream",
       "stream": "stdout",
       "text": [
        "\n",
        "(239, 269)"
       ]
      },
      {
       "output_type": "stream",
       "stream": "stdout",
       "text": [
        "\n",
        "(239, 269)"
       ]
      },
      {
       "output_type": "stream",
       "stream": "stdout",
       "text": [
        "\n",
        "(239, 269)"
       ]
      },
      {
       "output_type": "stream",
       "stream": "stdout",
       "text": [
        "\n",
        "(239, 269)"
       ]
      },
      {
       "output_type": "stream",
       "stream": "stdout",
       "text": [
        "\n",
        "(239, 269)"
       ]
      },
      {
       "output_type": "stream",
       "stream": "stdout",
       "text": [
        "\n",
        "(239, 269)"
       ]
      },
      {
       "output_type": "stream",
       "stream": "stdout",
       "text": [
        "\n",
        "(239, 269)"
       ]
      },
      {
       "output_type": "stream",
       "stream": "stdout",
       "text": [
        "\n",
        "(239, 269)"
       ]
      },
      {
       "output_type": "stream",
       "stream": "stdout",
       "text": [
        "\n",
        "(239, 269)"
       ]
      },
      {
       "output_type": "stream",
       "stream": "stdout",
       "text": [
        "\n",
        "(239, 269)"
       ]
      },
      {
       "output_type": "stream",
       "stream": "stdout",
       "text": [
        "\n",
        "(239, 269)"
       ]
      },
      {
       "output_type": "stream",
       "stream": "stdout",
       "text": [
        "\n",
        "(239, 269)"
       ]
      },
      {
       "output_type": "stream",
       "stream": "stdout",
       "text": [
        "\n",
        "(239, 269)"
       ]
      },
      {
       "output_type": "stream",
       "stream": "stdout",
       "text": [
        "\n",
        "(239, 269)"
       ]
      },
      {
       "output_type": "stream",
       "stream": "stdout",
       "text": [
        "\n",
        "(239, 269)"
       ]
      },
      {
       "output_type": "stream",
       "stream": "stdout",
       "text": [
        "\n",
        "(239, 269)"
       ]
      },
      {
       "output_type": "stream",
       "stream": "stdout",
       "text": [
        "\n",
        "(239, 269)"
       ]
      },
      {
       "output_type": "stream",
       "stream": "stdout",
       "text": [
        "\n",
        "(239, 269)"
       ]
      },
      {
       "output_type": "stream",
       "stream": "stdout",
       "text": [
        "\n",
        "(239, 269)"
       ]
      },
      {
       "output_type": "stream",
       "stream": "stdout",
       "text": [
        "\n",
        "(239, 269)"
       ]
      },
      {
       "output_type": "stream",
       "stream": "stdout",
       "text": [
        "\n",
        "(239, 269)"
       ]
      },
      {
       "output_type": "stream",
       "stream": "stdout",
       "text": [
        "\n",
        "(239, 269)"
       ]
      },
      {
       "output_type": "stream",
       "stream": "stdout",
       "text": [
        "\n",
        "(239, 269)"
       ]
      },
      {
       "output_type": "stream",
       "stream": "stdout",
       "text": [
        "\n",
        "(239, 269)"
       ]
      },
      {
       "output_type": "stream",
       "stream": "stdout",
       "text": [
        "\n",
        "(239, 269)"
       ]
      },
      {
       "output_type": "stream",
       "stream": "stdout",
       "text": [
        "\n",
        "(239, 269)"
       ]
      },
      {
       "output_type": "stream",
       "stream": "stdout",
       "text": [
        "\n",
        "(239, 269)"
       ]
      },
      {
       "output_type": "stream",
       "stream": "stdout",
       "text": [
        "\n",
        "(239, 269)"
       ]
      },
      {
       "output_type": "stream",
       "stream": "stdout",
       "text": [
        "\n",
        "(239, 269)"
       ]
      },
      {
       "output_type": "stream",
       "stream": "stdout",
       "text": [
        "\n",
        "(239, 269)"
       ]
      },
      {
       "output_type": "stream",
       "stream": "stdout",
       "text": [
        "\n",
        "(239, 269)"
       ]
      },
      {
       "output_type": "stream",
       "stream": "stdout",
       "text": [
        "\n",
        "(239, 269)"
       ]
      },
      {
       "output_type": "stream",
       "stream": "stdout",
       "text": [
        "\n",
        "(239, 269)"
       ]
      },
      {
       "output_type": "stream",
       "stream": "stdout",
       "text": [
        "\n",
        "(239, 269)"
       ]
      },
      {
       "output_type": "stream",
       "stream": "stdout",
       "text": [
        "\n",
        "(239, 269)"
       ]
      },
      {
       "output_type": "stream",
       "stream": "stdout",
       "text": [
        "\n",
        "(239, 269)"
       ]
      },
      {
       "ename": "KeyboardInterrupt",
       "evalue": "",
       "output_type": "pyerr",
       "traceback": [
        "\u001b[0;31m---------------------------------------------------------------------------\u001b[0m\n\u001b[0;31mKeyboardInterrupt\u001b[0m                         Traceback (most recent call last)",
        "\u001b[0;32m<ipython-input-10-75e0e32c9988>\u001b[0m in \u001b[0;36m<module>\u001b[0;34m()\u001b[0m\n\u001b[1;32m     22\u001b[0m \u001b[0;34m\u001b[0m\u001b[0m\n\u001b[1;32m     23\u001b[0m     \u001b[0mshapefilelocation\u001b[0m\u001b[0;34m=\u001b[0m\u001b[0;34m\"/Volumes/Raid5/aereinha/shapefiles\"\u001b[0m\u001b[0;34m\u001b[0m\u001b[0m\n\u001b[0;32m---> 24\u001b[0;31m     \u001b[0mm\u001b[0m\u001b[0;34m=\u001b[0m\u001b[0mBasemap\u001b[0m\u001b[0;34m(\u001b[0m\u001b[0mresolution\u001b[0m\u001b[0;34m=\u001b[0m\u001b[0;34m'i'\u001b[0m\u001b[0;34m,\u001b[0m\u001b[0mprojection\u001b[0m\u001b[0;34m=\u001b[0m\u001b[0;34m'lcc'\u001b[0m\u001b[0;34m,\u001b[0m\u001b[0mllcrnrlon\u001b[0m\u001b[0;34m=\u001b[0m\u001b[0mxlong\u001b[0m\u001b[0;34m[\u001b[0m\u001b[0mymin\u001b[0m\u001b[0;34m,\u001b[0m\u001b[0mxmin\u001b[0m\u001b[0;34m]\u001b[0m\u001b[0;34m,\u001b[0m\u001b[0mllcrnrlat\u001b[0m\u001b[0;34m=\u001b[0m\u001b[0mxlat\u001b[0m\u001b[0;34m[\u001b[0m\u001b[0mymin\u001b[0m\u001b[0;34m,\u001b[0m\u001b[0mxmin\u001b[0m\u001b[0;34m]\u001b[0m\u001b[0;34m,\u001b[0m\u001b[0murcrnrlon\u001b[0m\u001b[0;34m=\u001b[0m\u001b[0mxlong\u001b[0m\u001b[0;34m[\u001b[0m\u001b[0mymax\u001b[0m\u001b[0;34m,\u001b[0m\u001b[0mxmax\u001b[0m\u001b[0;34m]\u001b[0m\u001b[0;34m,\u001b[0m\u001b[0murcrnrlat\u001b[0m\u001b[0;34m=\u001b[0m\u001b[0mxlat\u001b[0m\u001b[0;34m[\u001b[0m\u001b[0mymax\u001b[0m\u001b[0;34m,\u001b[0m\u001b[0mxmax\u001b[0m\u001b[0;34m]\u001b[0m\u001b[0;34m,\u001b[0m\u001b[0mlat_1\u001b[0m\u001b[0;34m=\u001b[0m\u001b[0ma\u001b[0m\u001b[0;34m.\u001b[0m\u001b[0mvariables\u001b[0m\u001b[0;34m[\u001b[0m\u001b[0;34m'TRUELAT1'\u001b[0m\u001b[0;34m]\u001b[0m\u001b[0;34m[\u001b[0m\u001b[0;34m:\u001b[0m\u001b[0;34m]\u001b[0m\u001b[0;34m,\u001b[0m\u001b[0mlat_2\u001b[0m\u001b[0;34m=\u001b[0m\u001b[0ma\u001b[0m\u001b[0;34m.\u001b[0m\u001b[0mvariables\u001b[0m\u001b[0;34m[\u001b[0m\u001b[0;34m'TRUELAT2'\u001b[0m\u001b[0;34m]\u001b[0m\u001b[0;34m[\u001b[0m\u001b[0;34m:\u001b[0m\u001b[0;34m]\u001b[0m\u001b[0;34m,\u001b[0m\u001b[0mlat_0\u001b[0m\u001b[0;34m=\u001b[0m\u001b[0ma\u001b[0m\u001b[0;34m.\u001b[0m\u001b[0mvariables\u001b[0m\u001b[0;34m[\u001b[0m\u001b[0;34m'CEN_LAT'\u001b[0m\u001b[0;34m]\u001b[0m\u001b[0;34m[\u001b[0m\u001b[0;34m:\u001b[0m\u001b[0;34m]\u001b[0m\u001b[0;34m,\u001b[0m\u001b[0mlon_0\u001b[0m\u001b[0;34m=\u001b[0m\u001b[0ma\u001b[0m\u001b[0;34m.\u001b[0m\u001b[0mvariables\u001b[0m\u001b[0;34m[\u001b[0m\u001b[0;34m'STAND_LON'\u001b[0m\u001b[0;34m]\u001b[0m\u001b[0;34m[\u001b[0m\u001b[0;34m:\u001b[0m\u001b[0;34m]\u001b[0m\u001b[0;34m)\u001b[0m\u001b[0;34m\u001b[0m\u001b[0m\n\u001b[0m\u001b[1;32m     25\u001b[0m     \u001b[0;31m#m.drawcoastlines()\u001b[0m\u001b[0;34m\u001b[0m\u001b[0;34m\u001b[0m\u001b[0m\n\u001b[1;32m     26\u001b[0m     \u001b[0;31m#m.drawstates()\u001b[0m\u001b[0;34m\u001b[0m\u001b[0;34m\u001b[0m\u001b[0m\n",
        "\u001b[0;32m/Library/Frameworks/EPD64.framework/Versions/7.3/lib/python2.7/site-packages/mpl_toolkits/basemap/__init__.pyc\u001b[0m in \u001b[0;36m__init__\u001b[0;34m(self, llcrnrlon, llcrnrlat, urcrnrlon, urcrnrlat, llcrnrx, llcrnry, urcrnrx, urcrnry, width, height, projection, resolution, area_thresh, rsphere, lat_ts, lat_1, lat_2, lat_0, lon_0, lon_1, lon_2, no_rot, suppress_ticks, satellite_height, boundinglat, fix_aspect, anchor, celestial, ax)\u001b[0m\n\u001b[1;32m    824\u001b[0m         \u001b[0;31m# intersect map boundary polygon.\u001b[0m\u001b[0;34m\u001b[0m\u001b[0;34m\u001b[0m\u001b[0m\n\u001b[1;32m    825\u001b[0m         \u001b[0;32mif\u001b[0m \u001b[0mself\u001b[0m\u001b[0;34m.\u001b[0m\u001b[0mresolution\u001b[0m \u001b[0;32mis\u001b[0m \u001b[0;32mnot\u001b[0m \u001b[0mNone\u001b[0m\u001b[0;34m:\u001b[0m\u001b[0;34m\u001b[0m\u001b[0m\n\u001b[0;32m--> 826\u001b[0;31m             \u001b[0mself\u001b[0m\u001b[0;34m.\u001b[0m\u001b[0mcoastsegs\u001b[0m\u001b[0;34m,\u001b[0m \u001b[0mself\u001b[0m\u001b[0;34m.\u001b[0m\u001b[0mcoastpolygontypes\u001b[0m \u001b[0;34m=\u001b[0m \u001b[0mself\u001b[0m\u001b[0;34m.\u001b[0m\u001b[0m_readboundarydata\u001b[0m\u001b[0;34m(\u001b[0m\u001b[0;34m'gshhs'\u001b[0m\u001b[0;34m)\u001b[0m\u001b[0;34m\u001b[0m\u001b[0m\n\u001b[0m\u001b[1;32m    827\u001b[0m             \u001b[0;31m# reformat for use in matplotlib.patches.Polygon.\u001b[0m\u001b[0;34m\u001b[0m\u001b[0;34m\u001b[0m\u001b[0m\n\u001b[1;32m    828\u001b[0m             \u001b[0mself\u001b[0m\u001b[0;34m.\u001b[0m\u001b[0mcoastpolygons\u001b[0m \u001b[0;34m=\u001b[0m \u001b[0;34m[\u001b[0m\u001b[0;34m]\u001b[0m\u001b[0;34m\u001b[0m\u001b[0m\n",
        "\u001b[0;32m/Library/Frameworks/EPD64.framework/Versions/7.3/lib/python2.7/site-packages/mpl_toolkits/basemap/__init__.pyc\u001b[0m in \u001b[0;36m_readboundarydata\u001b[0;34m(self, name)\u001b[0m\n\u001b[1;32m   1035\u001b[0m                         \u001b[0mpoly2\u001b[0m \u001b[0;34m=\u001b[0m \u001b[0mShape\u001b[0m\u001b[0;34m(\u001b[0m\u001b[0mb2\u001b[0m\u001b[0;34m)\u001b[0m\u001b[0;34m\u001b[0m\u001b[0m\n\u001b[1;32m   1036\u001b[0m                         \u001b[0;32mif\u001b[0m \u001b[0m_geoslib\u001b[0m\u001b[0;34m.\u001b[0m\u001b[0m__geos_major_version__\u001b[0m \u001b[0;34m>\u001b[0m \u001b[0;36m2\u001b[0m\u001b[0;34m:\u001b[0m\u001b[0;34m\u001b[0m\u001b[0m\n\u001b[0;32m-> 1037\u001b[0;31m                             \u001b[0mpoly2\u001b[0m \u001b[0;34m=\u001b[0m \u001b[0mpoly2\u001b[0m\u001b[0;34m.\u001b[0m\u001b[0msimplify\u001b[0m\u001b[0;34m(\u001b[0m\u001b[0;36m1.e-10\u001b[0m\u001b[0;34m)\u001b[0m\u001b[0;34m\u001b[0m\u001b[0m\n\u001b[0m\u001b[1;32m   1038\u001b[0m                         \u001b[0mpolys\u001b[0m \u001b[0;34m=\u001b[0m \u001b[0;34m[\u001b[0m\u001b[0mpoly1\u001b[0m\u001b[0;34m,\u001b[0m\u001b[0mpoly\u001b[0m\u001b[0;34m,\u001b[0m\u001b[0mpoly2\u001b[0m\u001b[0;34m]\u001b[0m\u001b[0;34m\u001b[0m\u001b[0m\n\u001b[1;32m   1039\u001b[0m                     \u001b[0;32melse\u001b[0m\u001b[0;34m:\u001b[0m \u001b[0;31m# Antartica already extends from -360 to +720.\u001b[0m\u001b[0;34m\u001b[0m\u001b[0m\n",
        "\u001b[0;31mKeyboardInterrupt\u001b[0m: "
       ]
      },
      {
       "output_type": "stream",
       "stream": "stdout",
       "text": [
        "\n"
       ]
      },
      {
       "output_type": "display_data",
       "text": [
        "<matplotlib.figure.Figure at 0x18e2d2c50>"
       ]
      }
     ],
     "prompt_number": 10
    },
    {
     "cell_type": "code",
     "collapsed": false,
     "input": [
      "for i in glob.glob(\"/Volumes/External/aereinha/lajunta1kmMY/2009061121*\"):\n",
      "    print i[-2::]"
     ],
     "language": "python",
     "metadata": {},
     "outputs": [
      {
       "output_type": "stream",
       "stream": "stdout",
       "text": [
        "00\n",
        "02\n",
        "04\n",
        "06\n",
        "08\n",
        "10\n",
        "12\n",
        "14\n",
        "16\n",
        "18\n",
        "20\n",
        "22\n",
        "24\n",
        "26\n",
        "28\n",
        "30\n",
        "32\n",
        "34\n",
        "36\n",
        "38\n",
        "40\n"
       ]
      }
     ],
     "prompt_number": 98
    },
    {
     "cell_type": "code",
     "collapsed": false,
     "input": [
      "plt.close()"
     ],
     "language": "python",
     "metadata": {},
     "outputs": [],
     "prompt_number": 10
    },
    {
     "cell_type": "code",
     "collapsed": false,
     "input": [
      "c = nc.Dataset(\"/Volumes/External/aereinha/dumas1kmMOR/cold1dumas/201005190028/Posterior_Diag.nc\",\"r\")\n",
      "b = nc.Dataset(\"/Volumes/External/aereinha/dumas1kmMOR/cold1dumas/201005190028/precip/wrf_precip_d01_2010-05-19_00:30:00_20\",\"r\")\n",
      "dbz = b.variables['REFL_10CM'][0,:,:,:]\n",
      "xlat = c.variables['XLAT_d01'][:]\n",
      "xlong = c.variables['XLONG_d01'][:]\n",
      "U = c.variables['U_d01'][0,0,0,:,:]\n",
      "V = c.variables['V_d01'][0,0,0,:,:]\n",
      "\n",
      "qgraupel = c.variables['QGRAUP_d01'][0,0,:,:,:]\n",
      "print(xlat.shape)\n",
      "T = c.variables['T_d01'][0,0,0,:,:]#-b.variables['W_d01'][0,0,20,:,:]\n",
      "dbz = b.variables['REFL_10CM'][0,0,:,:]\n",
      "#shape = xlat.shape\n",
      "xdim = len(c.variables['XLAT_d01'][0,:])\n",
      "ydim = len(c.variables['XLONG_d01'][:,0])"
     ],
     "language": "python",
     "metadata": {},
     "outputs": [
      {
       "output_type": "stream",
       "stream": "stdout",
       "text": [
        "(239, 269)\n"
       ]
      }
     ],
     "prompt_number": 37
    },
    {
     "cell_type": "code",
     "collapsed": false,
     "input": [
      "ymin=60\n",
      "ymax=180\n",
      "xmin=80\n",
      "xmax=210\n",
      "\n",
      "maxw = np.zeros(150)\n",
      "maxwMY = np.zeros(150)\n",
      "co = 0\n",
      "\n",
      "time  = np.arange(0,300,2)\n",
      "for i in glob.glob(\"/Volumes/External/aereinha/dumas1kmMOR/cold1dumas/2010051*\"):\n",
      "    a = nc.Dataset(i+\"/Prior_Diag.nc\",\"r\")\n",
      "    w = a.variables['W_d01'][0,0,0:30,ymin:ymax,xmin:xmax]\n",
      "    maxw[co] = w.max()\n",
      "    co = co+1\n",
      "    a.close()\n",
      "co = 0\n",
      "for i in glob.glob(\"/Volumes/External/aereinha/dumas1kmMY/2010051*\"):\n",
      "    a = nc.Dataset(i+\"/Prior_Diag.nc\",\"r\")\n",
      "    w = a.variables['W_d01'][0,0,0:30,ymin:ymax,xmin:xmax]\n",
      "    maxwMY[co] = w.max()\n",
      "    co = co+1\n",
      "    a.close()\n",
      "plt.plot(time[0:90],maxw[0:90],'-r',time[0:90],maxwMY[0:90],'-b',linewidth=2)\n",
      "plt.legend(('Mor','MY'),loc=4)\n",
      "plt.xlabel('Minutes since 2100 UTC')\n",
      "plt.ylabel(r'm s$^{-1}$')\n",
      "plt.savefig('/Users/aereinha/aereinharaid5/Dropbox/WLine.png',dpi=300)"
     ],
     "language": "python",
     "metadata": {},
     "outputs": [
      {
       "output_type": "display_data",
       "png": "[encoded data removed]",
       "text": [
        "<matplotlib.figure.Figure at 0x10d32e550>"
       ]
      }
     ],
     "prompt_number": 146
    },
    {
     "cell_type": "code",
     "collapsed": false,
     "input": [
      "plt.plot(time,maxw,'-r',time,maxwMY,'-b')\n",
      "plt.legend(('Mor','MY'))"
     ],
     "language": "python",
     "metadata": {},
     "outputs": [
      {
       "ename": "ValueError",
       "evalue": "x and y must have same first dimension",
       "output_type": "pyerr",
       "traceback": [
        "\u001b[0;31m---------------------------------------------------------------------------\u001b[0m\n\u001b[0;31mValueError\u001b[0m                                Traceback (most recent call last)",
        "\u001b[0;32m<ipython-input-120-e374d81403ef>\u001b[0m in \u001b[0;36m<module>\u001b[0;34m()\u001b[0m\n\u001b[0;32m----> 1\u001b[0;31m \u001b[0mplt\u001b[0m\u001b[0;34m.\u001b[0m\u001b[0mplot\u001b[0m\u001b[0;34m(\u001b[0m\u001b[0mtime\u001b[0m\u001b[0;34m,\u001b[0m\u001b[0mmaxw\u001b[0m\u001b[0;34m,\u001b[0m\u001b[0;34m'-r'\u001b[0m\u001b[0;34m,\u001b[0m\u001b[0mtime\u001b[0m\u001b[0;34m,\u001b[0m\u001b[0mmaxwMY\u001b[0m\u001b[0;34m,\u001b[0m\u001b[0;34m'-b'\u001b[0m\u001b[0;34m)\u001b[0m\u001b[0;34m\u001b[0m\u001b[0m\n\u001b[0m\u001b[1;32m      2\u001b[0m \u001b[0mplt\u001b[0m\u001b[0;34m.\u001b[0m\u001b[0mlegend\u001b[0m\u001b[0;34m(\u001b[0m\u001b[0;34m(\u001b[0m\u001b[0;34m'Mor'\u001b[0m\u001b[0;34m,\u001b[0m\u001b[0;34m'MY'\u001b[0m\u001b[0;34m)\u001b[0m\u001b[0;34m)\u001b[0m\u001b[0;34m\u001b[0m\u001b[0m\n",
        "\u001b[0;32m/Library/Frameworks/EPD64.framework/Versions/7.3/lib/python2.7/site-packages/matplotlib/pyplot.pyc\u001b[0m in \u001b[0;36mplot\u001b[0;34m(*args, **kwargs)\u001b[0m\n\u001b[1;32m   2456\u001b[0m         \u001b[0max\u001b[0m\u001b[0;34m.\u001b[0m\u001b[0mhold\u001b[0m\u001b[0;34m(\u001b[0m\u001b[0mhold\u001b[0m\u001b[0;34m)\u001b[0m\u001b[0;34m\u001b[0m\u001b[0m\n\u001b[1;32m   2457\u001b[0m     \u001b[0;32mtry\u001b[0m\u001b[0;34m:\u001b[0m\u001b[0;34m\u001b[0m\u001b[0m\n\u001b[0;32m-> 2458\u001b[0;31m         \u001b[0mret\u001b[0m \u001b[0;34m=\u001b[0m \u001b[0max\u001b[0m\u001b[0;34m.\u001b[0m\u001b[0mplot\u001b[0m\u001b[0;34m(\u001b[0m\u001b[0;34m*\u001b[0m\u001b[0margs\u001b[0m\u001b[0;34m,\u001b[0m \u001b[0;34m**\u001b[0m\u001b[0mkwargs\u001b[0m\u001b[0;34m)\u001b[0m\u001b[0;34m\u001b[0m\u001b[0m\n\u001b[0m\u001b[1;32m   2459\u001b[0m         \u001b[0mdraw_if_interactive\u001b[0m\u001b[0;34m(\u001b[0m\u001b[0;34m)\u001b[0m\u001b[0;34m\u001b[0m\u001b[0m\n\u001b[1;32m   2460\u001b[0m     \u001b[0;32mfinally\u001b[0m\u001b[0;34m:\u001b[0m\u001b[0;34m\u001b[0m\u001b[0m\n",
        "\u001b[0;32m/Library/Frameworks/EPD64.framework/Versions/7.3/lib/python2.7/site-packages/matplotlib/axes.pyc\u001b[0m in \u001b[0;36mplot\u001b[0;34m(self, *args, **kwargs)\u001b[0m\n\u001b[1;32m   3846\u001b[0m         \u001b[0mlines\u001b[0m \u001b[0;34m=\u001b[0m \u001b[0;34m[\u001b[0m\u001b[0;34m]\u001b[0m\u001b[0;34m\u001b[0m\u001b[0m\n\u001b[1;32m   3847\u001b[0m \u001b[0;34m\u001b[0m\u001b[0m\n\u001b[0;32m-> 3848\u001b[0;31m         \u001b[0;32mfor\u001b[0m \u001b[0mline\u001b[0m \u001b[0;32min\u001b[0m \u001b[0mself\u001b[0m\u001b[0;34m.\u001b[0m\u001b[0m_get_lines\u001b[0m\u001b[0;34m(\u001b[0m\u001b[0;34m*\u001b[0m\u001b[0margs\u001b[0m\u001b[0;34m,\u001b[0m \u001b[0;34m**\u001b[0m\u001b[0mkwargs\u001b[0m\u001b[0;34m)\u001b[0m\u001b[0;34m:\u001b[0m\u001b[0;34m\u001b[0m\u001b[0m\n\u001b[0m\u001b[1;32m   3849\u001b[0m             \u001b[0mself\u001b[0m\u001b[0;34m.\u001b[0m\u001b[0madd_line\u001b[0m\u001b[0;34m(\u001b[0m\u001b[0mline\u001b[0m\u001b[0;34m)\u001b[0m\u001b[0;34m\u001b[0m\u001b[0m\n\u001b[1;32m   3850\u001b[0m             \u001b[0mlines\u001b[0m\u001b[0;34m.\u001b[0m\u001b[0mappend\u001b[0m\u001b[0;34m(\u001b[0m\u001b[0mline\u001b[0m\u001b[0;34m)\u001b[0m\u001b[0;34m\u001b[0m\u001b[0m\n",
        "\u001b[0;32m/Library/Frameworks/EPD64.framework/Versions/7.3/lib/python2.7/site-packages/matplotlib/axes.pyc\u001b[0m in \u001b[0;36m_grab_next_args\u001b[0;34m(self, *args, **kwargs)\u001b[0m\n\u001b[1;32m    330\u001b[0m                 \u001b[0misplit\u001b[0m \u001b[0;34m=\u001b[0m \u001b[0;36m2\u001b[0m\u001b[0;34m\u001b[0m\u001b[0m\n\u001b[1;32m    331\u001b[0m \u001b[0;34m\u001b[0m\u001b[0m\n\u001b[0;32m--> 332\u001b[0;31m             \u001b[0;32mfor\u001b[0m \u001b[0mseg\u001b[0m \u001b[0;32min\u001b[0m \u001b[0mself\u001b[0m\u001b[0;34m.\u001b[0m\u001b[0m_plot_args\u001b[0m\u001b[0;34m(\u001b[0m\u001b[0mremaining\u001b[0m\u001b[0;34m[\u001b[0m\u001b[0;34m:\u001b[0m\u001b[0misplit\u001b[0m\u001b[0;34m]\u001b[0m\u001b[0;34m,\u001b[0m \u001b[0mkwargs\u001b[0m\u001b[0;34m)\u001b[0m\u001b[0;34m:\u001b[0m\u001b[0;34m\u001b[0m\u001b[0m\n\u001b[0m\u001b[1;32m    333\u001b[0m                 \u001b[0;32myield\u001b[0m \u001b[0mseg\u001b[0m\u001b[0;34m\u001b[0m\u001b[0m\n\u001b[1;32m    334\u001b[0m             \u001b[0mremaining\u001b[0m\u001b[0;34m=\u001b[0m\u001b[0mremaining\u001b[0m\u001b[0;34m[\u001b[0m\u001b[0misplit\u001b[0m\u001b[0;34m:\u001b[0m\u001b[0;34m]\u001b[0m\u001b[0;34m\u001b[0m\u001b[0m\n",
        "\u001b[0;32m/Library/Frameworks/EPD64.framework/Versions/7.3/lib/python2.7/site-packages/matplotlib/axes.pyc\u001b[0m in \u001b[0;36m_plot_args\u001b[0;34m(self, tup, kwargs)\u001b[0m\n\u001b[1;32m    298\u001b[0m             \u001b[0mx\u001b[0m \u001b[0;34m=\u001b[0m \u001b[0mnp\u001b[0m\u001b[0;34m.\u001b[0m\u001b[0marange\u001b[0m\u001b[0;34m(\u001b[0m\u001b[0my\u001b[0m\u001b[0;34m.\u001b[0m\u001b[0mshape\u001b[0m\u001b[0;34m[\u001b[0m\u001b[0;36m0\u001b[0m\u001b[0;34m]\u001b[0m\u001b[0;34m,\u001b[0m \u001b[0mdtype\u001b[0m\u001b[0;34m=\u001b[0m\u001b[0mfloat\u001b[0m\u001b[0;34m)\u001b[0m\u001b[0;34m\u001b[0m\u001b[0m\n\u001b[1;32m    299\u001b[0m \u001b[0;34m\u001b[0m\u001b[0m\n\u001b[0;32m--> 300\u001b[0;31m         \u001b[0mx\u001b[0m\u001b[0;34m,\u001b[0m \u001b[0my\u001b[0m \u001b[0;34m=\u001b[0m \u001b[0mself\u001b[0m\u001b[0;34m.\u001b[0m\u001b[0m_xy_from_xy\u001b[0m\u001b[0;34m(\u001b[0m\u001b[0mx\u001b[0m\u001b[0;34m,\u001b[0m \u001b[0my\u001b[0m\u001b[0;34m)\u001b[0m\u001b[0;34m\u001b[0m\u001b[0m\n\u001b[0m\u001b[1;32m    301\u001b[0m \u001b[0;34m\u001b[0m\u001b[0m\n\u001b[1;32m    302\u001b[0m         \u001b[0;32mif\u001b[0m \u001b[0mself\u001b[0m\u001b[0;34m.\u001b[0m\u001b[0mcommand\u001b[0m \u001b[0;34m==\u001b[0m \u001b[0;34m'plot'\u001b[0m\u001b[0;34m:\u001b[0m\u001b[0;34m\u001b[0m\u001b[0m\n",
        "\u001b[0;32m/Library/Frameworks/EPD64.framework/Versions/7.3/lib/python2.7/site-packages/matplotlib/axes.pyc\u001b[0m in \u001b[0;36m_xy_from_xy\u001b[0;34m(self, x, y)\u001b[0m\n\u001b[1;32m    238\u001b[0m         \u001b[0my\u001b[0m \u001b[0;34m=\u001b[0m \u001b[0mnp\u001b[0m\u001b[0;34m.\u001b[0m\u001b[0matleast_1d\u001b[0m\u001b[0;34m(\u001b[0m\u001b[0my\u001b[0m\u001b[0;34m)\u001b[0m\u001b[0;34m\u001b[0m\u001b[0m\n\u001b[1;32m    239\u001b[0m         \u001b[0;32mif\u001b[0m \u001b[0mx\u001b[0m\u001b[0;34m.\u001b[0m\u001b[0mshape\u001b[0m\u001b[0;34m[\u001b[0m\u001b[0;36m0\u001b[0m\u001b[0;34m]\u001b[0m \u001b[0;34m!=\u001b[0m \u001b[0my\u001b[0m\u001b[0;34m.\u001b[0m\u001b[0mshape\u001b[0m\u001b[0;34m[\u001b[0m\u001b[0;36m0\u001b[0m\u001b[0;34m]\u001b[0m\u001b[0;34m:\u001b[0m\u001b[0;34m\u001b[0m\u001b[0m\n\u001b[0;32m--> 240\u001b[0;31m             \u001b[0;32mraise\u001b[0m \u001b[0mValueError\u001b[0m\u001b[0;34m(\u001b[0m\u001b[0;34m\"x and y must have same first dimension\"\u001b[0m\u001b[0;34m)\u001b[0m\u001b[0;34m\u001b[0m\u001b[0m\n\u001b[0m\u001b[1;32m    241\u001b[0m         \u001b[0;32mif\u001b[0m \u001b[0mx\u001b[0m\u001b[0;34m.\u001b[0m\u001b[0mndim\u001b[0m \u001b[0;34m>\u001b[0m \u001b[0;36m2\u001b[0m \u001b[0;32mor\u001b[0m \u001b[0my\u001b[0m\u001b[0;34m.\u001b[0m\u001b[0mndim\u001b[0m \u001b[0;34m>\u001b[0m \u001b[0;36m2\u001b[0m\u001b[0;34m:\u001b[0m\u001b[0;34m\u001b[0m\u001b[0m\n\u001b[1;32m    242\u001b[0m             \u001b[0;32mraise\u001b[0m \u001b[0mValueError\u001b[0m\u001b[0;34m(\u001b[0m\u001b[0;34m\"x and y can be no greater than 2-D\"\u001b[0m\u001b[0;34m)\u001b[0m\u001b[0;34m\u001b[0m\u001b[0m\n",
        "\u001b[0;31mValueError\u001b[0m: x and y must have same first dimension"
       ]
      },
      {
       "output_type": "display_data",
       "png": "[encoded data removed]",
       "text": [
        "<matplotlib.figure.Figure at 0x10c96fe90>"
       ]
      }
     ],
     "prompt_number": 120
    },
    {
     "cell_type": "code",
     "collapsed": false,
     "input": [
      "%pylab osx"
     ],
     "language": "python",
     "metadata": {},
     "outputs": [
      {
       "output_type": "stream",
       "stream": "stdout",
       "text": [
        "\n",
        "Welcome to pylab, a matplotlib-based Python environment [backend: MacOSX].\n",
        "For more information, type 'help(pylab)'.\n"
       ]
      }
     ],
     "prompt_number": 44
    },
    {
     "cell_type": "code",
     "collapsed": false,
     "input": [],
     "language": "python",
     "metadata": {},
     "outputs": []
    }
   ],
   "metadata": {}
  }
 ]
}