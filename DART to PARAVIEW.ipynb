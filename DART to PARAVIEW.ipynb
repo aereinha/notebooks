{
 "metadata": {
  "name": "DART to PARAVIEW"
 },
 "nbformat": 3,
 "nbformat_minor": 0,
 "worksheets": [
  {
   "cells": [
    {
     "cell_type": "code",
     "collapsed": false,
     "input": [
      "import numpy as np\n",
      "import netCDF4 as nc"
     ],
     "language": "python",
     "metadata": {},
     "outputs": [],
     "prompt_number": 153
    },
    {
     "cell_type": "code",
     "collapsed": false,
     "input": [
      "a = nc.Dataset(\"/Volumes/External/aereinha/dumas1kmMOR/cold1dumas/201005182330/Posterior_Diag.nc\",\"r\")"
     ],
     "language": "python",
     "metadata": {},
     "outputs": [],
     "prompt_number": 154
    },
    {
     "cell_type": "code",
     "collapsed": false,
     "input": [
      "a.variables[\"W_d01\"].shape"
     ],
     "language": "python",
     "metadata": {},
     "outputs": [
      {
       "output_type": "pyout",
       "prompt_number": 155,
       "text": [
        "(1, 5, 53, 239, 269)"
       ]
      }
     ],
     "prompt_number": 155
    },
    {
     "cell_type": "code",
     "collapsed": false,
     "input": [
      "out=nc.Dataset(\"paraviewtest.nc\",\"w\",format=\"NETCDF3_64BIT\")"
     ],
     "language": "python",
     "metadata": {},
     "outputs": [],
     "prompt_number": 157
    },
    {
     "cell_type": "code",
     "collapsed": false,
     "input": [
      "Z = out.createDimension('Z',size=len(a.dimensions['bottom_top_d01']))\n",
      "Y = out.createDimension('Y',size=len(a.dimensions['south_north_d01']))\n",
      "X = out.createDimension('X',size=len(a.dimensions['west_east_d01']))\n",
      "ZS = out.createDimension('ZS',size=len(a.dimensions['bottom_top_stag_d01']))\n",
      "YS = out.createDimension('YS',size=len(a.dimensions['south_north_stag_d01']))\n",
      "XS = out.createDimension('XS',size=len(a.dimensions['west_east_stag_d01']))\n",
      "T = out.createVariable('T','f8',('Z','Y','X',))\n",
      "T2 = out.createVariable('T2','f8',(\"Y\",\"X\",))\n",
      "LAT = out.createVariable('LAT','f8',('Y','X',))\n",
      "LON = out.createVariable('LON','f8',('Y','X',))\n",
      "PHB = out.createVariable('PHB','f8',('Z','Y','X',))\n",
      "W = out.createVariable('W','f8',('Z','Y','X',))"
     ],
     "language": "python",
     "metadata": {},
     "outputs": [],
     "prompt_number": 158
    },
    {
     "cell_type": "code",
     "collapsed": false,
     "input": [
      "T[:] = a.variables['T_d01'][0,0,:,:,:]\n",
      "T2[:] = a.variables['T_d01'][0,0,0,:,:]\n",
      "LAT[:] = a.variables['XLAT_d01'][:]\n",
      "LON[:] = a.variables[\"XLONG_d01\"][:]\n",
      "PHB = a.variables['PHB_d01'][1::]\n",
      "W[:] = a.variables['W_d01'][0,0,1::,:,:]"
     ],
     "language": "python",
     "metadata": {},
     "outputs": [],
     "prompt_number": 159
    },
    {
     "cell_type": "code",
     "collapsed": false,
     "input": [
      "#Z[:] = a.dimensions['bottom_top_d01']\n",
      "#Y[:] = a.dimensions['south_north_d01']\n",
      "#X[:] = a.dimensions['west_east_d01']\n"
     ],
     "language": "python",
     "metadata": {},
     "outputs": [],
     "prompt_number": 23
    },
    {
     "cell_type": "code",
     "collapsed": false,
     "input": [],
     "language": "python",
     "metadata": {},
     "outputs": [],
     "prompt_number": 37
    },
    {
     "cell_type": "code",
     "collapsed": false,
     "input": [
      "PHB = out.createVariable('PHB1','f8',('ZS','Y','X',))"
     ],
     "language": "python",
     "metadata": {},
     "outputs": [],
     "prompt_number": 42
    },
    {
     "cell_type": "code",
     "collapsed": false,
     "input": [
      "del(PHB)"
     ],
     "language": "python",
     "metadata": {},
     "outputs": [],
     "prompt_number": 40
    },
    {
     "cell_type": "code",
     "collapsed": false,
     "input": [
      "PHB[:] = a.variables['PHB_d01'][:]"
     ],
     "language": "python",
     "metadata": {},
     "outputs": [],
     "prompt_number": 43
    },
    {
     "cell_type": "code",
     "collapsed": false,
     "input": [
      "out.close()"
     ],
     "language": "python",
     "metadata": {},
     "outputs": [],
     "prompt_number": 160
    },
    {
     "cell_type": "code",
     "collapsed": false,
     "input": [],
     "language": "python",
     "metadata": {},
     "outputs": []
    }
   ],
   "metadata": {}
  }
 ]
}