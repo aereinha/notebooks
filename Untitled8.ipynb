{
 "metadata": {
  "name": "Untitled8"
 },
 "nbformat": 3,
 "nbformat_minor": 0,
 "worksheets": [
  {
   "cells": [
    {
     "cell_type": "code",
     "collapsed": false,
     "input": [
      "import numpy as np\n",
      "from mpl_toolkits.basemap import Basemap\n",
      "import matplotlib.pyplot as plt\n",
      "#import pygrib\n",
      "import matplotlib as mpl\n",
      "import ttuatmo.radar.ctables as ct\n",
      "import glob\n",
      "import netCDF4 as nc\n",
      "import datetime"
     ],
     "language": "python",
     "metadata": {},
     "outputs": [],
     "prompt_number": 1
    },
    {
     "cell_type": "code",
     "collapsed": false,
     "input": [
      "a=nc.Dataset('/Volumes/Raid5/mem1/wrfinput_d01','r')"
     ],
     "language": "python",
     "metadata": {},
     "outputs": [],
     "prompt_number": 2
    },
    {
     "cell_type": "code",
     "collapsed": false,
     "input": [
      "plt.figure()\n",
      "plt.contourf(a.variables['QVAPOR'][0,2,:,:])\n",
      "plt.colorbar()"
     ],
     "language": "python",
     "metadata": {},
     "outputs": [
      {
       "output_type": "pyout",
       "prompt_number": 19,
       "text": [
        "<matplotlib.colorbar.Colorbar instance at 0x111d0b680>"
       ]
      },
      {
       "output_type": "display_data",
       "png": "[encoded data removed]",
       "text": [
        "<matplotlib.figure.Figure at 0x11122a990>"
       ]
      }
     ],
     "prompt_number": 19
    },
    {
     "cell_type": "code",
     "collapsed": false,
     "input": [
      "a.variables.keys()"
     ],
     "language": "python",
     "metadata": {},
     "outputs": [
      {
       "output_type": "pyout",
       "prompt_number": 3,
       "text": [
        "[u'Times',\n",
        " u'LU_INDEX',\n",
        " u'ZNU',\n",
        " u'ZNW',\n",
        " u'ZS',\n",
        " u'DZS',\n",
        " u'U',\n",
        " u'V',\n",
        " u'W',\n",
        " u'PH',\n",
        " u'PHB',\n",
        " u'T',\n",
        " u'T_INIT',\n",
        " u'MU',\n",
        " u'MUB',\n",
        " u'P',\n",
        " u'PB',\n",
        " u'FNM',\n",
        " u'FNP',\n",
        " u'RDNW',\n",
        " u'RDN',\n",
        " u'DNW',\n",
        " u'DN',\n",
        " u'T_BASE',\n",
        " u'CFN',\n",
        " u'CFN1',\n",
        " u'STEP_NUMBER',\n",
        " u'P_HYD',\n",
        " u'Q2',\n",
        " u'T2',\n",
        " u'TH2',\n",
        " u'PSFC',\n",
        " u'U10',\n",
        " u'V10',\n",
        " u'RDX',\n",
        " u'RDY',\n",
        " u'DTS',\n",
        " u'DTSEPS',\n",
        " u'RESM',\n",
        " u'ZETATOP',\n",
        " u'CF1',\n",
        " u'CF2',\n",
        " u'CF3',\n",
        " u'QVAPOR',\n",
        " u'QCLOUD',\n",
        " u'QRAIN',\n",
        " u'QICE',\n",
        " u'QSNOW',\n",
        " u'QGRAUP',\n",
        " u'QNICE',\n",
        " u'QNRAIN',\n",
        " u'FCX',\n",
        " u'GCX',\n",
        " u'DTBC',\n",
        " u'LANDMASK',\n",
        " u'TOPOSLPX',\n",
        " u'TOPOSLPY',\n",
        " u'SHDMAX',\n",
        " u'SHDMIN',\n",
        " u'SNOALB',\n",
        " u'LANDUSEF',\n",
        " u'SOILCTOP',\n",
        " u'SOILCBOT',\n",
        " u'TSLB',\n",
        " u'SMOIS',\n",
        " u'SH2O',\n",
        " u'SMCREL',\n",
        " u'SEAICE',\n",
        " u'IVGTYP',\n",
        " u'ISLTYP',\n",
        " u'VEGFRA',\n",
        " u'SNOW',\n",
        " u'SNOWH',\n",
        " u'CANWAT',\n",
        " u'SST',\n",
        " u'FNDSNOWH',\n",
        " u'FNDSOILW',\n",
        " u'LAI',\n",
        " u'MAPFAC_M',\n",
        " u'MAPFAC_U',\n",
        " u'MAPFAC_V',\n",
        " u'MAPFAC_MX',\n",
        " u'MAPFAC_MY',\n",
        " u'MAPFAC_UX',\n",
        " u'MAPFAC_UY',\n",
        " u'MAPFAC_VX',\n",
        " u'MF_VX_INV',\n",
        " u'MAPFAC_VY',\n",
        " u'F',\n",
        " u'E',\n",
        " u'SINALPHA',\n",
        " u'COSALPHA',\n",
        " u'HGT',\n",
        " u'TSK',\n",
        " u'U_BASE',\n",
        " u'V_BASE',\n",
        " u'QV_BASE',\n",
        " u'Z_BASE',\n",
        " u'U_FRAME',\n",
        " u'V_FRAME',\n",
        " u'P_TOP',\n",
        " u'T00',\n",
        " u'P00',\n",
        " u'TLP',\n",
        " u'TISO',\n",
        " u'XLAT',\n",
        " u'XLONG',\n",
        " u'XLAT_U',\n",
        " u'XLONG_U',\n",
        " u'XLAT_V',\n",
        " u'XLONG_V',\n",
        " u'CLAT',\n",
        " u'CLONG',\n",
        " u'ALBBCK',\n",
        " u'TMN',\n",
        " u'XLAND',\n",
        " u'SNOWC',\n",
        " u'SR',\n",
        " u'SAVE_TOPO_FROM_REAL']"
       ]
      }
     ],
     "prompt_number": 3
    },
    {
     "cell_type": "code",
     "collapsed": false,
     "input": [],
     "language": "python",
     "metadata": {},
     "outputs": []
    }
   ],
   "metadata": {}
  }
 ]
}