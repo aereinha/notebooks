{
 "metadata": {
  "name": "verifTS"
 },
 "nbformat": 3,
 "nbformat_minor": 0,
 "worksheets": [
  {
   "cells": [
    {
     "cell_type": "code",
     "collapsed": false,
     "input": [
      "import numpy as np\n",
      "import matplotlib.pyplot as plt\n",
      "import netCDF4 as nc\n",
      "import os\n",
      "import sys\n",
      "import glob"
     ],
     "language": "python",
     "metadata": {},
     "outputs": [],
     "prompt_number": 1
    },
    {
     "cell_type": "code",
     "collapsed": false,
     "input": [
      "moderr = np.empty(shape=(7))\n",
      "gfserr = np.empty(shape=(7))\n",
      "j=0\n",
      "for j,i in enumerate(glob.glob(\"/Volumes/temp/verif/*.nc\")):\n",
      "    a = nc.Dataset(i,\"r\")\n",
      "\n",
      "    temp1 = a.variables['EnsMeanT'][:]-a.variables['ObsValueT'][:]\n",
      "    temp1 = np.ma.average(temp1)\n",
      "\n",
      "    print temp1\n",
      "    print(a.variables[\"LAT\"][10,3])\n",
      "    print(a.variables[\"LON\"][10,3])\n",
      "    temp2 = a.variables['GFSInterpT'][:]-a.variables['ObsValueT'][:]\n",
      "    temp2 = np.ma.average(temp2)\n",
      "    moderr[j] = temp1\n",
      "    gfserr[j] = temp2"
     ],
     "language": "python",
     "metadata": {},
     "outputs": [
      {
       "output_type": "stream",
       "stream": "stdout",
       "text": [
        "0.201211960251\n",
        "32.32\n",
        "-90.08\n",
        "-0.0342494071798\n",
        "32.32\n",
        "-90.08\n",
        "-0.0322268196706\n",
        "32.45\n",
        "-93.84\n",
        "-0.240248730902\n",
        "32.45\n",
        "-93.84\n",
        "-0.133911382957\n",
        "32.32\n",
        "-90.08\n",
        "-0.193356275558\n",
        "32.32\n",
        "-90.08\n",
        "-0.184577467751\n",
        "32.45\n",
        "-93.84\n"
       ]
      }
     ],
     "prompt_number": 65
    },
    {
     "cell_type": "code",
     "collapsed": false,
     "input": [
      "moderr1 = np.array([moderr[0],moderr[1],moderr[4],moderr[5]])\n",
      "gfserr1 = np.array([gfserr[0],gfserr[1],gfserr[4],gfserr[5]])\n"
     ],
     "language": "python",
     "metadata": {},
     "outputs": [],
     "prompt_number": 91
    },
    {
     "cell_type": "code",
     "collapsed": false,
     "input": [
      "plt.plot(moderr,label='Model-Obs')\n",
      "plt.plot(gfserr,label='GFS-Obs')\n",
      "plt.legend(loc=0)\n",
      "plt.grid(True,axis='y')\n",
      "plt.show()"
     ],
     "language": "python",
     "metadata": {},
     "outputs": [
      {
       "output_type": "display_data",
       "png": "[encoded data removed]",
       "text": [
        "<matplotlib.figure.Figure at 0x10f1c7710>"
       ]
      }
     ],
     "prompt_number": 66
    },
    {
     "cell_type": "code",
     "collapsed": false,
     "input": [
      "print(moderr)\n",
      "print(gfserr)\n"
     ],
     "language": "python",
     "metadata": {},
     "outputs": [
      {
       "output_type": "stream",
       "stream": "stdout",
       "text": [
        "[  0.00000000e+000   2.23491879e-314   2.13183904e-314   2.12331364e-314\n",
        "   2.12358746e-314   2.22306884e-314   2.13246421e-314]\n",
        "[  0.00000000e+000   2.23450459e-314   2.13183904e-314   2.12331364e-314\n",
        "   2.12358746e-314   0.00000000e+000   0.00000000e+000]\n"
       ]
      }
     ],
     "prompt_number": 37
    },
    {
     "cell_type": "code",
     "collapsed": false,
     "input": [
      "a.variables['EnsMeanT'].shape"
     ],
     "language": "python",
     "metadata": {},
     "outputs": [
      {
       "output_type": "pyout",
       "prompt_number": 10,
       "text": [
        "(34, 6)"
       ]
      }
     ],
     "prompt_number": 10
    },
    {
     "cell_type": "code",
     "collapsed": false,
     "input": [
      "temp1 = a.variables['EnsMeanT'][:,3]-a.variables['ObsValueT'][:,3]\n"
     ],
     "language": "python",
     "metadata": {},
     "outputs": [
      {
       "output_type": "stream",
       "stream": "stdout",
       "text": [
        "[0.185516357422 0.666900634766 -0.132354736328 -0.371551513672\n",
        " -0.307250976562 -0.00613403320312 -0.0829772949219 0.331024169922\n",
        " -0.0201110839844 -0.323104858398 0.0536651611328 -0.324462890625\n",
        " -0.178863525391 6.33070373535 0.181213378906 0.201019287109 0.60546875\n",
        " -0.358367919922 -0.261459350586 0.122100830078 -0.451187133789\n",
        " 0.0379028320312 0.00030517578125 -0.172210693359 -0.7080078125\n",
        " 1.00257873535 -0.0906982421875 -0.106842041016 0.721984863281\n",
        " -0.451568603516 -0.769500732422 -0.243835449219 0.357879638672\n",
        " -0.171310424805 -- --]\n"
       ]
      }
     ],
     "prompt_number": 51
    },
    {
     "cell_type": "code",
     "collapsed": false,
     "input": [
      "%pylab inline"
     ],
     "language": "python",
     "metadata": {},
     "outputs": [
      {
       "output_type": "stream",
       "stream": "stdout",
       "text": [
        "\n",
        "Welcome to pylab, a matplotlib-based Python environment [backend: module://IPython.zmq.pylab.backend_inline].\n",
        "For more information, type 'help(pylab)'.\n"
       ]
      }
     ],
     "prompt_number": 63
    },
    {
     "cell_type": "code",
     "collapsed": false,
     "input": [],
     "language": "python",
     "metadata": {},
     "outputs": []
    }
   ],
   "metadata": {}
  }
 ]
}