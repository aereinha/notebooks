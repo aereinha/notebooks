{
 "metadata": {
  "name": "notebook"
 },
 "nbformat": 3,
 "nbformat_minor": 0,
 "worksheets": [
  {
   "cells": [
    {
     "cell_type": "heading",
     "level": 1,
     "metadata": {},
     "source": [
      "Plots WRF Fields and GRB data"
     ]
    },
    {
     "cell_type": "code",
     "collapsed": false,
     "input": [
      "import numpy as np\n",
      "from mpl_toolkits.basemap import Basemap\n",
      "import matplotlib.pyplot as plt\n",
      "import pygrib\n",
      "import matplotlib as mt\n",
      "import ttuatmo.radar.ctables as ct\n",
      "import glob\n",
      "import netCDF4 as nc"
     ],
     "language": "python",
     "metadata": {},
     "outputs": []
    },
    {
     "cell_type": "code",
     "collapsed": false,
     "input": [
      "grbs = pygrib.open(\"/Users/aereinha/Downloads/stageIV/ST4.2012061700.01h\")"
     ],
     "language": "python",
     "metadata": {},
     "outputs": []
    },
    {
     "cell_type": "code",
     "collapsed": false,
     "input": [
      "pcp = grbs.select(name='Total Precipitation')[0]"
     ],
     "language": "python",
     "metadata": {},
     "outputs": []
    },
    {
     "cell_type": "code",
     "collapsed": false,
     "input": [
      "lats,lons = pcp.latlons()"
     ],
     "language": "python",
     "metadata": {},
     "outputs": []
    },
    {
     "cell_type": "code",
     "collapsed": false,
     "input": [
      "a = nc.Dataset(\"/Volumes/External/aereinha/DFItests/wrfout1hrdfi2d/wrfout_d01_2012-06-17_00:00:00.1hrdfi2d\",\"r\")\n",
      "xlat = a.variables['XLAT'][:]\n",
      "xlong = a.variables['XLONG'][:]\n",
      "pcpwrfdfi = a.variables['RAINNC'][-1,:,:]\n",
      "shape = xlat.shape\n",
      "xdim = len(a.variables['XLAT'][0,0,:])\n",
      "ydim = len(a.variables['XLONG'][0,:,0])\n",
      "print(np.min(xlong[0,:,:]))\n",
      "print(xlong[0,:,:].min())\n",
      "print(a.CEN_LAT)\n",
      "\n",
      "b=nc.Dataset(\"/Volumes/External/aereinha/DFItests/wrfoutnodfi/wrfout_d01_2012-06-17_00:00:00\",\"r\")\n",
      "pcpwrfnodfi = b.variables['RAINNC'][-1,:,:]"
     ],
     "language": "python",
     "metadata": {},
     "outputs": []
    },
    {
     "cell_type": "code",
     "collapsed": false,
     "input": [
      "#m=Basemap(resolution='l',projection='stere',llcrnrlon=lons.min(),llcrnrlat=lats.min(),urcrnrlon=lons.max(),urcrnrlat=lats.max(),lat_ts=50,lat_0=50,lon_0=-107.)\n",
      "m=Basemap(resolution='i',projection='lcc',llcrnrlon=xlong[0,0,0],llcrnrlat=xlat[0,0,0],urcrnrlon=xlong[0,-1,-1],urcrnrlat=xlat[0,-1,-1],lat_1=a.TRUELAT1,lat_2=a.TRUELAT2,lat_0=a.CEN_LAT,lon_0=a.STAND_LON)\n",
      "m.drawcoastlines()\n",
      "m.drawstates()\n",
      "m.drawcountries()\n",
      "#m.drawmeridians()\n",
      "#m.drawparallels()\n",
      "x,y = m(xlong[0,:,:],xlat[0,:,:])\n",
      "\n",
      "cs = m.contourf(x,y,pcpwrfdfi,colors=pcp_cmap,levels=[0.01,0.1,0.5,1.,2.,3.,4.,5.,7.5,10.,15.,20.,30.,40.,50.,np.max(pcpwrfdfi)])\n",
      "plt.colorbar()\n",
      "plt.show()"
     ],
     "language": "python",
     "metadata": {},
     "outputs": []
    },
    {
     "cell_type": "code",
     "collapsed": false,
     "input": [
      "pcptotal = 0.\n",
      "for i in glob.glob(\"/Users/aereinha/Downloads/stageIV/ST4.20120617*.01h\"):\n",
      "    grbs = pygrib.open(i)\n",
      "    pcp = grbs.select(name='Total Precipitation')[0]\n",
      "    pcptotal = pcp.values + pcptotal\n",
      "    grbs.close"
     ],
     "language": "python",
     "metadata": {},
     "outputs": []
    },
    {
     "cell_type": "code",
     "collapsed": false,
     "input": [
      "red = [255./255.,214./255.,181./255.,142./255.,127./255.,99./255.,0./255.,0./255.,0./255.,99./255.,150./255.,198./255.,255./255.,255./255.,255./255.,255./255.,255./255.]\n",
      "blue = [255./255.,255./255.,255./255.,255./255.,255./255.,247./255.,255./255.,150./255.,51./255.,0./255.,0./255.,51./255.,0./255.,0./255.,0./255.,0./255.,0./255.]\n",
      "green = [255./255.,226./255.,201./255.,178./255.,150./255.,112./255.,99./255.,150./255.,198./255.,255./255.,255./255.,255./255.,255./255.,198./255.,160./255.,124./255.,25./255.]\n",
      "#red = red/255.\n",
      "#blue= blue/255.\n",
      "#green = green/255.\n",
      "cmaps = np.dstack((red,green,blue))\n",
      "\n",
      "\n",
      "\n",
      "pcp_cmap = [ #(1.,1.,1.),\\\n",
      "             (0.83921569,.88627451,1.),\\\n",
      "             (0.70980392,.78823529,1.),\\\n",
      "             (0.55686275,.69803922,1.),\\\n",
      "             (0.49803922,.58823529,1.),\\\n",
      "             #(0.38823529,.43921569,.96862745),\\\n",
      "             (0.,0.38823529,1.),\\\n",
      "             (0.,0.58823529,0.58823529),\\\n",
      "             (0.,0.77647059,0.2,),\\\n",
      "             ( 0.38823529,1.,0.),\\\n",
      "             ( 0.58823529,1.,0.),\\\n",
      "             ( 0.77647059,1.,0.2),\\\n",
      "             ( 1.,1.,0.),\\\n",
      "             ( 1.,0.77647059,0.),\\\n",
      "             ( 1.,0.62745098,0.),\\\n",
      "             ( 1.,0.48627451,0.),\\\n",
      "             ( 1.,0.09803922,0.)]\n",
      "print(pcp_cmap)"
     ],
     "language": "python",
     "metadata": {},
     "outputs": []
    },
    {
     "cell_type": "code",
     "collapsed": false,
     "input": [
      "cmapp = {'red' : (red),'green': (green),'blue': (blue) }\n",
      "a = mt.colors.ListedColormap(cmaps)"
     ],
     "language": "python",
     "metadata": {},
     "outputs": []
    },
    {
     "cell_type": "code",
     "collapsed": false,
     "input": [
      "#m=Basemap(resolution='l',projection='stere',llcrnrlon=lons.min(),llcrnrlat=lats.min(),urcrnrlon=lons.max(),urcrnrlat=lats.max(),lat_ts=50,lat_0=50,lon_0=-107.)\n",
      "#m=Basemap(resolution='l',projection='lcc',llcrnrlon=-117.,llcrnrlat=24.,urcrnrlon=-75.,urcrnrlat=49.0,lat_1=32.,lat_2=46.,lon_1=-101,lat_0=37.41502,lon_0=-96.46472)\n",
      "#For WRF LCC\n",
      "fig=plt.figure(figsize=(15,8.5))\n",
      "plt.subplot(1,3,1)\n",
      "plt.title(\"No-DFI\")\n",
      "m=Basemap(resolution='i',projection='lcc',llcrnrlon=xlong[0,0,0],llcrnrlat=xlat[0,0,0],urcrnrlon=xlong[0,-1,-1],urcrnrlat=xlat[0,-1,-1],lat_1=a.TRUELAT1,lat_2=a.TRUELAT2,lat_0=a.CEN_LAT,lon_0=a.STAND_LON)\n",
      "m.drawcoastlines()\n",
      "m.drawstates()\n",
      "m.drawcountries()\n",
      "x,y = m(xlong[0,:,:],xlat[0,:,:])\n",
      "cs2 = m.contourf(x,y,pcpwrfnodfi,colors=pcp_cmap,levels=[0.01,0.1,0.5,1.,2.,3.,4.,5.,7.5,10.,15.,20.,30.,40.,50.,np.max(pcpwrfdfi)])\n",
      "plt.colorbar(orientation='horizontal')\n",
      "\n",
      "plt.subplot(1,3,2)\n",
      "plt.title(\"Stage IV\")\n",
      "m=Basemap(resolution='i',projection='lcc',llcrnrlon=xlong[0,0,0],llcrnrlat=xlat[0,0,0],urcrnrlon=xlong[0,-1,-1],urcrnrlat=xlat[0,-1,-1],lat_1=a.TRUELAT1,lat_2=a.TRUELAT2,lat_0=a.CEN_LAT,lon_0=a.STAND_LON)\n",
      "\n",
      "m.drawcoastlines()\n",
      "m.drawstates()\n",
      "m.drawcountries()\n",
      "#m.drawmeridians()\n",
      "#m.drawparallels()\n",
      "x,y = m(lons,lats)\n",
      "\n",
      "cs = m.contourf(x,y,pcptotal,colors=pcp_cmap,levels=[0.01,0.1,0.5,1.,2.,3.,4.,5.,7.5,10.,15.,20.,30.,40.,50.,np.max(pcptotal)])\n",
      "plt.colorbar(orientation='horizontal')\n",
      "plt.subplot(1,3,3)\n",
      "plt.title(\"DFI\")\n",
      "m=Basemap(resolution='i',projection='lcc',llcrnrlon=xlong[0,0,0],llcrnrlat=xlat[0,0,0],urcrnrlon=xlong[0,-1,-1],urcrnrlat=xlat[0,-1,-1],lat_1=a.TRUELAT1,lat_2=a.TRUELAT2,lat_0=a.CEN_LAT,lon_0=a.STAND_LON)\n",
      "m.drawcoastlines()\n",
      "m.drawstates()\n",
      "m.drawcountries()\n",
      "x,y = m(xlong[0,:,:],xlat[0,:,:])\n",
      "cs1 = m.contourf(x,y,pcpwrfdfi,colors=pcp_cmap,levels=[0.01,0.1,0.5,1.,2.,3.,4.,5.,7.5,10.,15.,20.,30.,40.,50.,np.max(pcpwrfdfi)])\n",
      "plt.colorbar(orientation='horizontal')\n",
      "plt.savefig(\"runsVSStageIV1domainfeedback.png\",dpi=300)"
     ],
     "language": "python",
     "metadata": {},
     "outputs": []
    }
   ],
   "metadata": {}
  }
 ]
}