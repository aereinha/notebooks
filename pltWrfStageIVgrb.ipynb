{
 "metadata": {
  "name": "pltWrfStageIVgrb"
 },
 "nbformat": 3,
 "nbformat_minor": 0,
 "worksheets": [
  {
   "cells": [
    {
     "cell_type": "heading",
     "level": 1,
     "metadata": {},
     "source": [
      "Plots WRF Fields and GRB data"
     ]
    },
    {
     "cell_type": "code",
     "collapsed": false,
     "input": [
      "import numpy as np\n",
      "from mpl_toolkits.basemap import Basemap\n",
      "import matplotlib.pyplot as plt\n",
      "#import pygrib\n",
      "import matplotlib as mt\n",
      "import ttuatmo.radar.ctables as ct\n",
      "import glob\n",
      "import netCDF4 as nc"
     ],
     "language": "python",
     "metadata": {},
     "outputs": [],
     "prompt_number": 14
    },
    {
     "cell_type": "code",
     "collapsed": false,
     "input": [
      "%pylab osx"
     ],
     "language": "python",
     "metadata": {},
     "outputs": [
      {
       "output_type": "stream",
       "stream": "stdout",
       "text": [
        "\n",
        "Welcome to pylab, a matplotlib-based Python environment [backend: MacOSX].\n",
        "For more information, type 'help(pylab)'.\n"
       ]
      }
     ],
     "prompt_number": 4
    },
    {
     "cell_type": "code",
     "collapsed": false,
     "input": [
      "grbs = pygrib.open(\"/Users/aereinha/Downloads/stageIV/ST4.2010051912.24h\")"
     ],
     "language": "python",
     "metadata": {},
     "outputs": [],
     "prompt_number": 29
    },
    {
     "cell_type": "code",
     "collapsed": false,
     "input": [
      "#pcp = 0.\n",
      "#del(pcp)\n",
      "p=0\n",
      "for i in glob.glob(\"/Users/aereinha/Downloads/stageIV/ST4.20100518*.01h\"):\n",
      "    grbs = pygrib.open(i)\n",
      "    if (p == 0):\n",
      "        grb = grbs.select(name='Total Precipitation')[0]\n",
      "        pcp = grb.values\n",
      "    else:\n",
      "        grb = grbs.select(name='Total Precipitation')[0]\n",
      "        pcp = pcp + grb.values\n",
      "    p=p+1\n",
      "grbs = pygrib.open(\"/Users/aereinha/Downloads/stageIV/ST4.2010051900.01h\")\n",
      "grb = grbs.select(name='Total Precipitation')[0]\n",
      "pcp = pcp + grb.values\n",
      "grbs = pygrib.open(\"/Users/aereinha/Downloads/stageIV/ST4.2010051901.01h\")\n",
      "grb = grbs.select(name='Total Precipitation')[0]\n",
      "pcp = pcp + grb.values\n",
      "grbs = pygrib.open(\"/Users/aereinha/Downloads/stageIV/ST4.2010051902.01h\")\n",
      "grb = grbs.select(name='Total Precipitation')[0]\n",
      "pcp = pcp + grb.values"
     ],
     "language": "python",
     "metadata": {},
     "outputs": [],
     "prompt_number": 2
    },
    {
     "cell_type": "code",
     "collapsed": false,
     "input": [
      "pcp = grbs.select(name='Total Precipitation')[0]"
     ],
     "language": "python",
     "metadata": {},
     "outputs": [],
     "prompt_number": 30
    },
    {
     "cell_type": "code",
     "collapsed": false,
     "input": [
      "lats,lons = pcp.latlons()\n",
      "print(lats.max())"
     ],
     "language": "python",
     "metadata": {},
     "outputs": [
      {
       "output_type": "stream",
       "stream": "stdout",
       "text": [
        "57.8475794356\n"
       ]
      }
     ],
     "prompt_number": 27
    },
    {
     "cell_type": "code",
     "collapsed": false,
     "input": [
      "a = nc.Dataset(\"/Volumes/External/aereinha/lajunta1km/200906112136/Posterior_Diag.nc\",\"r\")\n",
      "b=nc.Dataset(\"/Volumes/External/aereinha/lajunta1km/200906120130/precip/wrf_precip_d01_2009-06-12_01:32:00_1\",\"r\")\n",
      "xlat = a.variables['XLAT_d01'][:]\n",
      "xlong = a.variables['XLONG_d01'][:]\n",
      "Tdfi = a.variables['TH2_d01'][0,0,:,:]\n",
      "shape = xlat.shape\n",
      "xdim = len(a.variables['XLAT_d01'][0,:])\n",
      "ydim = len(a.variables['XLONG_d01'][:,0])\n",
      "print(np.min(xlong[:,:]))\n",
      "print(xlong[:,:].min())\n",
      "print(b.dimensions)\n",
      "ref = b.variables['REFL_10CM'][0,0,:,:] \n",
      "\n",
      "\n",
      "#b=nc.Dataset(\"/Volumes/External/aereinha/DFItests/wrfoutnodfi/wrfout_d01_2012-06-17_00:00:00\",\"r\")\n",
      "pcpwrfnodfi = b.variables['RAINNC'][0,:,:]"
     ],
     "language": "python",
     "metadata": {},
     "outputs": [
      {
       "output_type": "stream",
       "stream": "stdout",
       "text": [
        "-105.803\n",
        "-105.803\n",
        "OrderedDict([(u'Time', <netCDF4.Dimension object at 0x13fd16ef0>), (u'south_north', <netCDF4.Dimension object at 0x10c89b638>), (u'west_east', <netCDF4.Dimension object at 0x10c89b5f0>), (u'bottom_top', <netCDF4.Dimension object at 0x10c89bd40>)])\n"
       ]
      }
     ],
     "prompt_number": 20
    },
    {
     "cell_type": "code",
     "collapsed": false,
     "input": [
      "figure()\n",
      "m=Basemap(resolution='i',projection='lcc',llcrnrlon=xlong[70,100],llcrnrlat=xlat[70,100],urcrnrlon=xlong[180,260],urcrnrlat=xlat[180,260],lat_1=a.variables['TRUELAT1'][:],lat_2=a.variables['TRUELAT2'][:],lat_0=a.variables['CEN_LAT'][:],lon_0=a.variables['STAND_LON'][:])\n",
      "m.drawcoastlines()\n",
      "m.drawstates()\n",
      "m.drawcountries()\n",
      "shapefilelocation=\"/Volumes/External/aereinha/shapefiles\"\n",
      "m.readshapefile(shapefilelocation+'/counties/c_03ap12', name='counties')\n",
      "x,y = m(xlong[70:180,100:260],xlat[70:180,100:260])\n",
      "levs = np.arange(-15.,60.,5.)\n",
      "cs = m.contourf(x,y,ref[70:180,100:260],cmap=ct.Carbone42,levels=levs)\n",
      "#cs=m.contourf(x,y,pcpwrfnodfi,colors=pcp_cmap,levels=[0.01,0.1,0.5,1.,2.,3.,4.,5.,7.5,10.,15.,20.,30.,40.,50.])\n",
      "plt.colorbar()\n",
      "plt.show()"
     ],
     "language": "python",
     "metadata": {},
     "outputs": [],
     "prompt_number": 21
    },
    {
     "cell_type": "code",
     "collapsed": false,
     "input": [
      "#m=Basemap(resolution='l',projection='stere',llcrnrlon=-125,llcrnrlat=25,urcrnrlon=-67,urcrnrlat=49,lat_ts=50,lat_0=50,lon_0=-107.)\n",
      "#m=Basemap(resolution='i',projection='lcc',llcrnrlon=xlong[0,0,0],llcrnrlat=xlat[0,0,0],urcrnrlon=xlong[0,-1,-1],urcrnrlat=xlat[0,-1,-1],lat_1=a.TRUELAT1,lat_2=a.TRUELAT2,lat_0=a.CEN_LAT,lon_0=a.STAND_LON)\n",
      "m.drawcoastlines()\n",
      "m.drawstates()\n",
      "m.drawcountries()\n",
      "#m.drawmeridians()\n",
      "#m.drawparallels()\n",
      "x,y = m(xlong[0,:,:],xlat[0,:,:])\n",
      "#x,y = m(lons,lats)\n",
      "cs = m.contourf(x,y,pcp,colors=pcp_cmap,levels=[0.01,0.1,0.5,1.,2.,3.,4.,5.,7.5,10.,15.,20.,30.,40.,50.])\n",
      "plt.colorbar()\n",
      "plt.show()"
     ],
     "language": "python",
     "metadata": {},
     "outputs": [],
     "prompt_number": 50
    },
    {
     "cell_type": "code",
     "collapsed": false,
     "input": [
      "pcptotal = 0.\n",
      "for i in glob.glob(\"/Users/aereinha/Downloads/stageIV/ST4.20120617*.01h\"):\n",
      "    grbs = pygrib.open(i)\n",
      "    pcp = grbs.select(name='Total Precipitation')[0]\n",
      "    pcptotal = pcp.values + pcptotal\n",
      "    grbs.close"
     ],
     "language": "python",
     "metadata": {},
     "outputs": []
    },
    {
     "cell_type": "code",
     "collapsed": false,
     "input": [
      "red = [255./255.,214./255.,181./255.,142./255.,127./255.,99./255.,0./255.,0./255.,0./255.,99./255.,150./255.,198./255.,255./255.,255./255.,255./255.,255./255.,255./255.]\n",
      "blue = [255./255.,255./255.,255./255.,255./255.,255./255.,247./255.,255./255.,150./255.,51./255.,0./255.,0./255.,51./255.,0./255.,0./255.,0./255.,0./255.,0./255.]\n",
      "green = [255./255.,226./255.,201./255.,178./255.,150./255.,112./255.,99./255.,150./255.,198./255.,255./255.,255./255.,255./255.,255./255.,198./255.,160./255.,124./255.,25./255.]\n",
      "#red = red/255.\n",
      "#blue= blue/255.\n",
      "#green = green/255.\n",
      "cmaps = np.dstack((red,green,blue))\n",
      "\n",
      "\n",
      "\n",
      "pcp_cmap = [ #(1.,1.,1.),\\\n",
      "             (0.83921569,.88627451,1.),\\\n",
      "             (0.70980392,.78823529,1.),\\\n",
      "             (0.55686275,.69803922,1.),\\\n",
      "             (0.49803922,.58823529,1.),\\\n",
      "             #(0.38823529,.43921569,.96862745),\\\n",
      "             (0.,0.38823529,1.),\\\n",
      "             (0.,0.58823529,0.58823529),\\\n",
      "             (0.,0.77647059,0.2,),\\\n",
      "             ( 0.38823529,1.,0.),\\\n",
      "             ( 0.58823529,1.,0.),\\\n",
      "             ( 0.77647059,1.,0.2),\\\n",
      "             ( 1.,1.,0.),\\\n",
      "             ( 1.,0.77647059,0.),\\\n",
      "             ( 1.,0.62745098,0.),\\\n",
      "             ( 1.,0.48627451,0.),\\\n",
      "             ( 1.,0.09803922,0.)]\n",
      "print(pcp_cmap)"
     ],
     "language": "python",
     "metadata": {},
     "outputs": [
      {
       "output_type": "stream",
       "stream": "stdout",
       "text": [
        "[(0.83921569, 0.88627451, 1.0), (0.70980392, 0.78823529, 1.0), (0.55686275, 0.69803922, 1.0), (0.49803922, 0.58823529, 1.0), (0.0, 0.38823529, 1.0), (0.0, 0.58823529, 0.58823529), (0.0, 0.77647059, 0.2), (0.38823529, 1.0, 0.0), (0.58823529, 1.0, 0.0), (0.77647059, 1.0, 0.2), (1.0, 1.0, 0.0), (1.0, 0.77647059, 0.0), (1.0, 0.62745098, 0.0), (1.0, 0.48627451, 0.0), (1.0, 0.09803922, 0.0)]\n"
       ]
      }
     ],
     "prompt_number": 2
    },
    {
     "cell_type": "code",
     "collapsed": false,
     "input": [
      "cmapp = {'red' : (red),'green': (green),'blue': (blue) }\n",
      "a = mt.colors.ListedColormap(cmaps)"
     ],
     "language": "python",
     "metadata": {},
     "outputs": []
    },
    {
     "cell_type": "code",
     "collapsed": false,
     "input": [
      "#m=Basemap(resolution='l',projection='stere',llcrnrlon=lons.min(),llcrnrlat=lats.min(),urcrnrlon=lons.max(),urcrnrlat=lats.max(),lat_ts=50,lat_0=50,lon_0=-107.)\n",
      "#m=Basemap(resolution='l',projection='lcc',llcrnrlon=-117.,llcrnrlat=24.,urcrnrlon=-75.,urcrnrlat=49.0,lat_1=32.,lat_2=46.,lon_1=-101,lat_0=37.41502,lon_0=-96.46472)\n",
      "#For WRF LCC\n",
      "fig=plt.figure(figsize=(15,8.5))\n",
      "plt.subplot(1,3,1)\n",
      "plt.title(\"No-DFI\")\n",
      "m=Basemap(resolution='i',projection='lcc',llcrnrlon=xlong[0,0,0],llcrnrlat=xlat[0,0,0],urcrnrlon=xlong[0,-1,-1],urcrnrlat=xlat[0,-1,-1],lat_1=a.TRUELAT1,lat_2=a.TRUELAT2,lat_0=a.CEN_LAT,lon_0=a.STAND_LON)\n",
      "m.drawcoastlines()\n",
      "m.drawstates()\n",
      "m.drawcountries()\n",
      "x,y = m(xlong[0,:,:],xlat[0,:,:])\n",
      "cs2 = m.contourf(x,y,pcpwrfnodfi,colors=pcp_cmap,levels=[0.01,0.1,0.5,1.,2.,3.,4.,5.,7.5,10.,15.,20.,30.,40.,50.,np.max(pcpwrfdfi)])\n",
      "plt.colorbar(orientation='horizontal')\n",
      "\n",
      "plt.subplot(1,3,2)\n",
      "plt.title(\"Stage IV\")\n",
      "m=Basemap(resolution='i',projection='lcc',llcrnrlon=xlong[0,0,0],llcrnrlat=xlat[0,0,0],urcrnrlon=xlong[0,-1,-1],urcrnrlat=xlat[0,-1,-1],lat_1=a.TRUELAT1,lat_2=a.TRUELAT2,lat_0=a.CEN_LAT,lon_0=a.STAND_LON)\n",
      "\n",
      "m.drawcoastlines()\n",
      "m.drawstates()\n",
      "m.drawcountries()\n",
      "#m.drawmeridians()\n",
      "#m.drawparallels()\n",
      "x,y = m(lons,lats)\n",
      "\n",
      "cs = m.contourf(x,y,pcptotal,colors=pcp_cmap,levels=[0.01,0.1,0.5,1.,2.,3.,4.,5.,7.5,10.,15.,20.,30.,40.,50.,np.max(pcptotal)])\n",
      "plt.colorbar(orientation='horizontal')\n",
      "plt.subplot(1,3,3)\n",
      "plt.title(\"DFI\")\n",
      "m=Basemap(resolution='i',projection='lcc',llcrnrlon=xlong[0,0,0],llcrnrlat=xlat[0,0,0],urcrnrlon=xlong[0,-1,-1],urcrnrlat=xlat[0,-1,-1],lat_1=a.TRUELAT1,lat_2=a.TRUELAT2,lat_0=a.CEN_LAT,lon_0=a.STAND_LON)\n",
      "m.drawcoastlines()\n",
      "m.drawstates()\n",
      "m.drawcountries()\n",
      "x,y = m(xlong[0,:,:],xlat[0,:,:])\n",
      "cs1 = m.contourf(x,y,pcpwrfdfi,colors=pcp_cmap,levels=[0.01,0.1,0.5,1.,2.,3.,4.,5.,7.5,10.,15.,20.,30.,40.,50.,np.max(pcpwrfdfi)])\n",
      "plt.colorbar(orientation='horizontal')\n",
      "plt.savefig(\"runsVSStageIV1domainfeedback.png\",dpi=300)"
     ],
     "language": "python",
     "metadata": {},
     "outputs": [
      {
       "ename": "NameError",
       "evalue": "name 'Basemap' is not defined",
       "output_type": "pyerr",
       "traceback": [
        "\u001b[0;31m---------------------------------------------------------------------------\u001b[0m\n\u001b[0;31mNameError\u001b[0m                                 Traceback (most recent call last)",
        "\u001b[0;32m<ipython-input-1-9a93dd616971>\u001b[0m in \u001b[0;36m<module>\u001b[0;34m()\u001b[0m\n\u001b[1;32m      5\u001b[0m \u001b[0mplt\u001b[0m\u001b[0;34m.\u001b[0m\u001b[0msubplot\u001b[0m\u001b[0;34m(\u001b[0m\u001b[0;36m1\u001b[0m\u001b[0;34m,\u001b[0m\u001b[0;36m3\u001b[0m\u001b[0;34m,\u001b[0m\u001b[0;36m1\u001b[0m\u001b[0;34m)\u001b[0m\u001b[0;34m\u001b[0m\u001b[0m\n\u001b[1;32m      6\u001b[0m \u001b[0mplt\u001b[0m\u001b[0;34m.\u001b[0m\u001b[0mtitle\u001b[0m\u001b[0;34m(\u001b[0m\u001b[0;34m\"No-DFI\"\u001b[0m\u001b[0;34m)\u001b[0m\u001b[0;34m\u001b[0m\u001b[0m\n\u001b[0;32m----> 7\u001b[0;31m \u001b[0mm\u001b[0m\u001b[0;34m=\u001b[0m\u001b[0mBasemap\u001b[0m\u001b[0;34m(\u001b[0m\u001b[0mresolution\u001b[0m\u001b[0;34m=\u001b[0m\u001b[0;34m'i'\u001b[0m\u001b[0;34m,\u001b[0m\u001b[0mprojection\u001b[0m\u001b[0;34m=\u001b[0m\u001b[0;34m'lcc'\u001b[0m\u001b[0;34m,\u001b[0m\u001b[0mllcrnrlon\u001b[0m\u001b[0;34m=\u001b[0m\u001b[0mxlong\u001b[0m\u001b[0;34m[\u001b[0m\u001b[0;36m0\u001b[0m\u001b[0;34m,\u001b[0m\u001b[0;36m0\u001b[0m\u001b[0;34m,\u001b[0m\u001b[0;36m0\u001b[0m\u001b[0;34m]\u001b[0m\u001b[0;34m,\u001b[0m\u001b[0mllcrnrlat\u001b[0m\u001b[0;34m=\u001b[0m\u001b[0mxlat\u001b[0m\u001b[0;34m[\u001b[0m\u001b[0;36m0\u001b[0m\u001b[0;34m,\u001b[0m\u001b[0;36m0\u001b[0m\u001b[0;34m,\u001b[0m\u001b[0;36m0\u001b[0m\u001b[0;34m]\u001b[0m\u001b[0;34m,\u001b[0m\u001b[0murcrnrlon\u001b[0m\u001b[0;34m=\u001b[0m\u001b[0mxlong\u001b[0m\u001b[0;34m[\u001b[0m\u001b[0;36m0\u001b[0m\u001b[0;34m,\u001b[0m\u001b[0;34m-\u001b[0m\u001b[0;36m1\u001b[0m\u001b[0;34m,\u001b[0m\u001b[0;34m-\u001b[0m\u001b[0;36m1\u001b[0m\u001b[0;34m]\u001b[0m\u001b[0;34m,\u001b[0m\u001b[0murcrnrlat\u001b[0m\u001b[0;34m=\u001b[0m\u001b[0mxlat\u001b[0m\u001b[0;34m[\u001b[0m\u001b[0;36m0\u001b[0m\u001b[0;34m,\u001b[0m\u001b[0;34m-\u001b[0m\u001b[0;36m1\u001b[0m\u001b[0;34m,\u001b[0m\u001b[0;34m-\u001b[0m\u001b[0;36m1\u001b[0m\u001b[0;34m]\u001b[0m\u001b[0;34m,\u001b[0m\u001b[0mlat_1\u001b[0m\u001b[0;34m=\u001b[0m\u001b[0ma\u001b[0m\u001b[0;34m.\u001b[0m\u001b[0mTRUELAT1\u001b[0m\u001b[0;34m,\u001b[0m\u001b[0mlat_2\u001b[0m\u001b[0;34m=\u001b[0m\u001b[0ma\u001b[0m\u001b[0;34m.\u001b[0m\u001b[0mTRUELAT2\u001b[0m\u001b[0;34m,\u001b[0m\u001b[0mlat_0\u001b[0m\u001b[0;34m=\u001b[0m\u001b[0ma\u001b[0m\u001b[0;34m.\u001b[0m\u001b[0mCEN_LAT\u001b[0m\u001b[0;34m,\u001b[0m\u001b[0mlon_0\u001b[0m\u001b[0;34m=\u001b[0m\u001b[0ma\u001b[0m\u001b[0;34m.\u001b[0m\u001b[0mSTAND_LON\u001b[0m\u001b[0;34m)\u001b[0m\u001b[0;34m\u001b[0m\u001b[0m\n\u001b[0m\u001b[1;32m      8\u001b[0m \u001b[0mm\u001b[0m\u001b[0;34m.\u001b[0m\u001b[0mdrawcoastlines\u001b[0m\u001b[0;34m(\u001b[0m\u001b[0;34m)\u001b[0m\u001b[0;34m\u001b[0m\u001b[0m\n\u001b[1;32m      9\u001b[0m \u001b[0mm\u001b[0m\u001b[0;34m.\u001b[0m\u001b[0mdrawstates\u001b[0m\u001b[0;34m(\u001b[0m\u001b[0;34m)\u001b[0m\u001b[0;34m\u001b[0m\u001b[0m\n",
        "\u001b[0;31mNameError\u001b[0m: name 'Basemap' is not defined"
       ]
      },
      {
       "output_type": "display_data",
       "png": "[encoded data removed]",
       "text": [
        "<matplotlib.figure.Figure at 0x10abf10d0>"
       ]
      }
     ],
     "prompt_number": 1
    },
    {
     "cell_type": "code",
     "collapsed": false,
     "input": [],
     "language": "python",
     "metadata": {},
     "outputs": []
    }
   ],
   "metadata": {}
  }
 ]
}