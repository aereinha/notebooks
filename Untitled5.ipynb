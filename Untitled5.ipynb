{
 "metadata": {
  "name": "Untitled5"
 },
 "nbformat": 3,
 "nbformat_minor": 0,
 "worksheets": [
  {
   "cells": [
    {
     "cell_type": "code",
     "collapsed": false,
     "input": [
      "import netCDF4 as nc\n",
      "import numpy as np\n",
      "import matplotlib.pyplot as plt\n",
      "import ttuatmo.met.vort as vort\n",
      "import glob\n",
      "import numpy as np\n",
      "\n",
      "from mpl_toolkits.basemap import Basemap\n",
      "import matplotlib.pyplot as plt\n",
      "#import pygrib\n",
      "import matplotlib as mt\n",
      "import ttuatmo.radar.ctables as ct\n",
      "import glob\n",
      "import netCDF4 as nc"
     ],
     "language": "python",
     "metadata": {},
     "outputs": [],
     "prompt_number": 2
    },
    {
     "cell_type": "code",
     "collapsed": false,
     "input": [
      "a=nc.Dataset('/Volumes/Raid5/aereinha/dumasbluefirebad/wrfout_d01_2009-06-11_21:00:00','r')"
     ],
     "language": "python",
     "metadata": {},
     "outputs": [
      {
       "ename": "RuntimeError",
       "evalue": "No such file or directory",
       "output_type": "pyerr",
       "traceback": [
        "\u001b[0;31m---------------------------------------------------------------------------\u001b[0m\n\u001b[0;31mRuntimeError\u001b[0m                              Traceback (most recent call last)",
        "\u001b[0;32m<ipython-input-10-2022570b801f>\u001b[0m in \u001b[0;36m<module>\u001b[0;34m()\u001b[0m\n\u001b[0;32m----> 1\u001b[0;31m \u001b[0ma\u001b[0m\u001b[0;34m=\u001b[0m\u001b[0mnc\u001b[0m\u001b[0;34m.\u001b[0m\u001b[0mDataset\u001b[0m\u001b[0;34m(\u001b[0m\u001b[0;34m'/Volumes/Raid5/aereinha/dumasbluefirebad/wrfout_d01_2009-06-11_21:00:00'\u001b[0m\u001b[0;34m,\u001b[0m\u001b[0;34m'r'\u001b[0m\u001b[0;34m)\u001b[0m\u001b[0;34m\u001b[0m\u001b[0m\n\u001b[0m",
        "\u001b[0;32m/Library/Frameworks/EPD64.framework/Versions/7.3/lib/python2.7/site-packages/netCDF4.so\u001b[0m in \u001b[0;36mnetCDF4.Dataset.__init__ (netCDF4.c:15904)\u001b[0;34m()\u001b[0m\n",
        "\u001b[0;31mRuntimeError\u001b[0m: No such file or directory"
       ]
      }
     ],
     "prompt_number": 10
    },
    {
     "cell_type": "code",
     "collapsed": false,
     "input": [
      "w=a.variables['W'][:]"
     ],
     "language": "python",
     "metadata": {},
     "outputs": [],
     "prompt_number": 3
    },
    {
     "cell_type": "code",
     "collapsed": false,
     "input": [
      "x = np.array([np.arange(0,10,1.),np.arange(0,30,3.)])\n",
      "y = np.arange(0,20,2.)"
     ],
     "language": "python",
     "metadata": {},
     "outputs": [],
     "prompt_number": 34
    },
    {
     "cell_type": "code",
     "collapsed": false,
     "input": [
      "vort.vortZ(x,x,y,y,10,10,10,1)"
     ],
     "language": "python",
     "metadata": {},
     "outputs": [
      {
       "ename": "TypeError",
       "evalue": "derivative() takes at least 2 arguments (2 given)",
       "output_type": "pyerr",
       "traceback": [
        "\u001b[0;31m---------------------------------------------------------------------------\u001b[0m\n\u001b[0;31mTypeError\u001b[0m                                 Traceback (most recent call last)",
        "\u001b[0;32m<ipython-input-28-29a0e373b438>\u001b[0m in \u001b[0;36m<module>\u001b[0;34m()\u001b[0m\n\u001b[0;32m----> 1\u001b[0;31m \u001b[0mvort\u001b[0m\u001b[0;34m.\u001b[0m\u001b[0mvortZ\u001b[0m\u001b[0;34m(\u001b[0m\u001b[0mx\u001b[0m\u001b[0;34m,\u001b[0m\u001b[0mx\u001b[0m\u001b[0;34m,\u001b[0m\u001b[0my\u001b[0m\u001b[0;34m,\u001b[0m\u001b[0my\u001b[0m\u001b[0;34m,\u001b[0m\u001b[0;36m10\u001b[0m\u001b[0;34m,\u001b[0m\u001b[0;36m10\u001b[0m\u001b[0;34m,\u001b[0m\u001b[0;36m10\u001b[0m\u001b[0;34m,\u001b[0m\u001b[0;36m1\u001b[0m\u001b[0;34m)\u001b[0m\u001b[0;34m\u001b[0m\u001b[0m\n\u001b[0m",
        "\u001b[0;32m/Users/aereinha/Documents/pythonmodules/ttuatmo/met/vort.py\u001b[0m in \u001b[0;36mvortZ\u001b[0;34m(u, x, v, y, nx, ny, nz, dxm)\u001b[0m\n\u001b[1;32m      9\u001b[0m     \u001b[0mlev\u001b[0m \u001b[0;34m=\u001b[0m \u001b[0;36m0\u001b[0m\u001b[0;34m\u001b[0m\u001b[0m\n\u001b[1;32m     10\u001b[0m     \u001b[0mdvdx\u001b[0m \u001b[0;34m=\u001b[0m \u001b[0mnp\u001b[0m\u001b[0;34m.\u001b[0m\u001b[0mgradient\u001b[0m\u001b[0;34m(\u001b[0m\u001b[0mv\u001b[0m\u001b[0;34m[\u001b[0m\u001b[0mlev\u001b[0m\u001b[0;34m,\u001b[0m\u001b[0;34m:\u001b[0m\u001b[0;34m,\u001b[0m\u001b[0;34m:\u001b[0m\u001b[0;34m]\u001b[0m\u001b[0;34m,\u001b[0m\u001b[0mdx\u001b[0m\u001b[0;34m=\u001b[0m\u001b[0mdxm\u001b[0m\u001b[0;34m)\u001b[0m\u001b[0;34m\u001b[0m\u001b[0m\n\u001b[0;32m---> 11\u001b[0;31m     \u001b[0mdudy\u001b[0m \u001b[0;34m=\u001b[0m \u001b[0mnp\u001b[0m\u001b[0;34m.\u001b[0m\u001b[0mgradient\u001b[0m\u001b[0;34m(\u001b[0m\u001b[0mu\u001b[0m\u001b[0;34m[\u001b[0m\u001b[0mlev\u001b[0m\u001b[0;34m,\u001b[0m\u001b[0;34m:\u001b[0m\u001b[0;34m,\u001b[0m\u001b[0;34m:\u001b[0m\u001b[0;34m]\u001b[0m\u001b[0;34m,\u001b[0m\u001b[0mdx\u001b[0m\u001b[0;34m=\u001b[0m\u001b[0mdxm\u001b[0m\u001b[0;34m)\u001b[0m\u001b[0;34m\u001b[0m\u001b[0m\n\u001b[0m\u001b[1;32m     12\u001b[0m     \u001b[0;32mreturn\u001b[0m\u001b[0;34m(\u001b[0m\u001b[0mdvdx\u001b[0m \u001b[0;34m-\u001b[0m \u001b[0mdudy\u001b[0m\u001b[0;34m)\u001b[0m\u001b[0;34m\u001b[0m\u001b[0m\n\u001b[1;32m     13\u001b[0m \u001b[0;34m\u001b[0m\u001b[0m\n",
        "\u001b[0;31mTypeError\u001b[0m: derivative() takes at least 2 arguments (2 given)"
       ]
      }
     ],
     "prompt_number": 28
    },
    {
     "cell_type": "code",
     "collapsed": false,
     "input": [
      "a,b=np.gradient(x,1)\n"
     ],
     "language": "python",
     "metadata": {},
     "outputs": [],
     "prompt_number": 50
    },
    {
     "cell_type": "code",
     "collapsed": false,
     "input": [
      "b[1,0]"
     ],
     "language": "python",
     "metadata": {},
     "outputs": [
      {
       "output_type": "pyout",
       "prompt_number": 55,
       "text": [
        "3.0"
       ]
      }
     ],
     "prompt_number": 55
    },
    {
     "cell_type": "code",
     "collapsed": false,
     "input": [
      "def delx(field, DX):\n",
      "    \"\"\"Takes the derivative of a field with respect to the x-dimension.\n",
      "    Uses center differencing and side differencing on edges of domain.\"\"\"\n",
      "    dFdx = np.ma.array(np.ones_like(field))\n",
      "    dFdx[:,0] = (field[:,1]-field[:,0])/DX\n",
      "    dFdx[:,1:-1] = (field[:,2:]-field[:,0:-2])/(2.0*DX)\n",
      "    dFdx[:,-1] = (field[:,-1]-field[:,-2])/DX\n",
      "    return dFdx"
     ],
     "language": "python",
     "metadata": {},
     "outputs": [],
     "prompt_number": 4
    },
    {
     "cell_type": "code",
     "collapsed": false,
     "input": [
      "def dely(field, DY):\n",
      "    \"\"\"Takes the derivative of a field with respect to the y-dimension.\n",
      "    Uses center differencing and side differencing on edges of domain.\"\"\"\n",
      "    dFdy = np.ma.array(np.ones_like(field))\n",
      "    dFdy[0,:] = (field[1,:]-field[0,:])/DY\n",
      "    dFdy[1:-1,:] = (field[2:,:]-field[:-2,:])/(2.0*DY)\n",
      "    dFdy[-1,:] = (field[-1,:]-field[-2,:])/DY\n",
      "    return dFdy"
     ],
     "language": "python",
     "metadata": {},
     "outputs": [],
     "prompt_number": 5
    },
    {
     "cell_type": "code",
     "collapsed": false,
     "input": [
      "def vertical_vorticity(u_array, v_array, DX, DY):\n",
      "    \"\"\"Calculate the vorticity field using center differencing and side differencing on the edges.\"\"\"\n",
      "    return delx(v_array, DX) - dely(u_array, DY)"
     ],
     "language": "python",
     "metadata": {},
     "outputs": [],
     "prompt_number": 6
    },
    {
     "cell_type": "code",
     "collapsed": false,
     "input": [
      "a=nc.Dataset('/Volumes/External/aereinha/dumas1kmMY/201005182302/Prior_Diag.nc','r')"
     ],
     "language": "python",
     "metadata": {},
     "outputs": [],
     "prompt_number": 122
    },
    {
     "cell_type": "code",
     "collapsed": false,
     "input": [
      "a.variables"
     ],
     "language": "python",
     "metadata": {},
     "outputs": [
      {
       "output_type": "pyout",
       "prompt_number": 60,
       "text": [
        "OrderedDict([(u'copy', <netCDF4.Variable object at 0x10c5f23d0>), (u'CopyMetaData', <netCDF4.Variable object at 0x10c5f24d0>), (u'inputnml', <netCDF4.Variable object at 0x10c5f25d0>), (u'time', <netCDF4.Variable object at 0x10c5f26d0>), (u'DX', <netCDF4.Variable object at 0x10c5f27d0>), (u'DY', <netCDF4.Variable object at 0x10c5f28d0>), (u'TRUELAT1', <netCDF4.Variable object at 0x10c5f2950>), (u'TRUELAT2', <netCDF4.Variable object at 0x10c5f2a50>), (u'STAND_LON', <netCDF4.Variable object at 0x10c5f2b50>), (u'CEN_LAT', <netCDF4.Variable object at 0x10c5f2bd0>), (u'CEN_LON', <netCDF4.Variable object at 0x10c5f2c50>), (u'MAP_PROJ', <netCDF4.Variable object at 0x10c5f2cd0>), (u'PERIODIC_X', <netCDF4.Variable object at 0x10c5f2d50>), (u'POLAR', <netCDF4.Variable object at 0x10c5f2dd0>), (u'DN_d01', <netCDF4.Variable object at 0x10c5f2e50>), (u'ZNU_d01', <netCDF4.Variable object at 0x10c5f2ed0>), (u'ZNW_d01', <netCDF4.Variable object at 0x10c5f2f50>), (u'DNW_d01', <netCDF4.Variable object at 0x10c643050>), (u'MUB_d01', <netCDF4.Variable object at 0x10c6430d0>), (u'XLONG_d01', <netCDF4.Variable object at 0x10c643150>), (u'XLONG_U_d01', <netCDF4.Variable object at 0x10c6431d0>), (u'XLONG_V_d01', <netCDF4.Variable object at 0x10c643250>), (u'XLAT_d01', <netCDF4.Variable object at 0x10c6432d0>), (u'XLAT_U_d01', <netCDF4.Variable object at 0x10c643350>), (u'XLAT_V_d01', <netCDF4.Variable object at 0x10c6433d0>), (u'level_d01', <netCDF4.Variable object at 0x10c643450>), (u'XLAND_d01', <netCDF4.Variable object at 0x10c6434d0>), (u'PHB_d01', <netCDF4.Variable object at 0x10c643550>), (u'HGT_d01', <netCDF4.Variable object at 0x10c6435d0>), (u'U_d01', <netCDF4.Variable object at 0x10c643650>), (u'V_d01', <netCDF4.Variable object at 0x10c6436d0>), (u'W_d01', <netCDF4.Variable object at 0x10c643750>), (u'PH_d01', <netCDF4.Variable object at 0x10c6437d0>), (u'T_d01', <netCDF4.Variable object at 0x10c643850>), (u'MU_d01', <netCDF4.Variable object at 0x10c6438d0>), (u'QVAPOR_d01', <netCDF4.Variable object at 0x10c643950>), (u'QCLOUD_d01', <netCDF4.Variable object at 0x10c6439d0>), (u'QRAIN_d01', <netCDF4.Variable object at 0x10c643a50>), (u'QICE_d01', <netCDF4.Variable object at 0x10c643ad0>), (u'QSNOW_d01', <netCDF4.Variable object at 0x10c643b50>), (u'QGRAUP_d01', <netCDF4.Variable object at 0x10c643bd0>), (u'QNICE_d01', <netCDF4.Variable object at 0x10c643c50>), (u'QNRAIN_d01', <netCDF4.Variable object at 0x10c643cd0>), (u'QNSNOW_d01', <netCDF4.Variable object at 0x10c643d50>), (u'QNGRAUPEL_d01', <netCDF4.Variable object at 0x10c643dd0>), (u'H_DIABATIC_d01', <netCDF4.Variable object at 0x10c643e50>), (u'U10_d01', <netCDF4.Variable object at 0x10c643ed0>), (u'V10_d01', <netCDF4.Variable object at 0x10c643f50>), (u'T2_d01', <netCDF4.Variable object at 0x10c646050>), (u'Q2_d01', <netCDF4.Variable object at 0x10c6460d0>), (u'PSFC_d01', <netCDF4.Variable object at 0x10c646150>), (u'TH2_d01', <netCDF4.Variable object at 0x10c6461d0>)])"
       ]
      }
     ],
     "prompt_number": 60
    },
    {
     "cell_type": "code",
     "collapsed": false,
     "input": [
      "u=a.variables['U_d01'][0,0,:,:,:]\n",
      "v=a.variables['V_d01'][0,0,:,:,:]\n",
      "qrain = a.variables['QRAIN_d01'][0,0,:,:,:]"
     ],
     "language": "python",
     "metadata": {},
     "outputs": [],
     "prompt_number": 123
    },
    {
     "cell_type": "code",
     "collapsed": false,
     "input": [
      "vort = vertical_vorticity(u[3,:,0:-1],v[3,0:-1,:],1000,1000)"
     ],
     "language": "python",
     "metadata": {},
     "outputs": [],
     "prompt_number": 140
    },
    {
     "cell_type": "code",
     "collapsed": false,
     "input": [
      "maxqr = np.max(qrain[:,80:130,120:160],axis=0)\n",
      "plt.contourf(maxqr)\n",
      "plt.colorbar()\n",
      "plt.contour(vort[80:130,120:160],levels=arange(0.01,1.0,0.001),colors='y')\n",
      "plt.figure()\n",
      "plt.contourf(vort[80:130,120:160],levels=arange(0.01,0.050,0.001))\n",
      "plt.colorbar()\n",
      "np.max(vort[80:130,120:160])"
     ],
     "language": "python",
     "metadata": {},
     "outputs": [
      {
       "output_type": "pyout",
       "prompt_number": 142,
       "text": [
        "0.017625641"
       ]
      },
      {
       "output_type": "display_data",
       "png": "[encoded data removed]",
       "text": [
        "<matplotlib.figure.Figure at 0x13bfeb750>"
       ]
      },
      {
       "output_type": "display_data",
       "png": "[encoded data removed]",
       "text": [
        "<matplotlib.figure.Figure at 0x1398e61d0>"
       ]
      }
     ],
     "prompt_number": 142
    },
    {
     "cell_type": "code",
     "collapsed": false,
     "input": [
      "for i in glob.glob(\"/Volumes/Raid5/aereinha/wrf_precip_d01_2009-06-12_00:22:00_25\"):\n",
      "    #a = nc.Dataset(i+\"/Posterior_Diag.nc\",\"r\")\n",
      "    a = nc.Dataset(\"/Volumes/Raid5/aereinha/Posterior_Diag.0030.nc\",\"r\")\n",
      "    b = nc.Dataset(i,\"r\")\n",
      "    dbz = b.variables['REFL_10CM'][0,:,:,:]\n",
      "    xlat = a.variables['XLAT_d01'][:]\n",
      "    xlong = a.variables['XLONG_d01'][:]\n",
      "    u = a.variables['U_d01'][0,0,:,:,:]\n",
      "    v = a.variables['V_d01'][0,0,:,:,:]\n",
      "    m = plt.figure()\n",
      "    qgraupel = a.variables['QGRAUP_d01'][0,0,:,:,:]\n",
      "    print(xlat.shape)\n",
      "    T = a.variables['T_d01'][0,0,0,:,:]#-b.variables['W_d01'][0,0,20,:,:]\n",
      "    #dbz = b.variables['REFL_10CM'][0,:,:,:]\n",
      "    #shape = xlat.shape\n",
      "    xdim = len(a.variables['XLAT_d01'][0,:])\n",
      "    ydim = len(a.variables['XLONG_d01'][:,0])\n",
      "    ymin=0\n",
      "    ymax=233\n",
      "    xmin=0\n",
      "    xmax=260\n",
      "    vort = vertical_vorticity(np.max(u[0:20,ymin:ymax,xmin:xmax],axis=0),np.max(v[0:20,ymin:ymax,xmin:xmax],axis=0),1000,1000)\n",
      "    shapefilelocation=\"/Volumes/Raid5/aereinha/shapefiles\"\n",
      "    m=Basemap(resolution='i',projection='lcc',llcrnrlon=xlong[ymin,xmin],llcrnrlat=xlat[ymin,xmin],urcrnrlon=xlong[ymax,xmax],urcrnrlat=xlat[ymax,xmax],lat_1=a.variables['TRUELAT1'][:],lat_2=a.variables['TRUELAT2'][:],lat_0=a.variables['CEN_LAT'][:],lon_0=a.variables['STAND_LON'][:])\n",
      "    #m.drawcoastlines()\n",
      "    #m.drawstates()\n",
      "    #m.drawcountries()\n",
      "    m.readshapefile(shapefilelocation+'/UScounties/UScounties', name='UScounties')\n",
      "    qrain = a.variables['QRAIN_d01'][0,0,:,:,:]\n",
      "    x,y = m(xlong[ymin:ymax,xmin:xmax],xlat[ymin:ymax,xmin:xmax])\n",
      "    maxqg = np.max(qgraupel[0:18,:,:],axis=0)\n",
      "    maxqr = np.max(qrain[:,:,:],axis=0)\n",
      "    levs = np.arange(-6.,30.,2)\n",
      "    #cs = m.barbs(x,y,Ub[::5,1::5]*1.94384,Vb[1::5,::5]*1.94384,barbcolor='green')\n",
      "    #cs=m.contourf(x,y,refmeandfi21,levels=[0.01,0.1,0.5,1.,2.,3.,4.,5.,7.5,10.,15.,20.,30.,40.,50.,np.max(refmeandfi0)],colors=pcp_cmap)\n",
      "    #c = nc.Dataset(\"/Volumes/External/aereinha/dumasmeso1/outputnodfi3hr/2010051818/precip/wrf_precip_d01_2010-05-18_21:00:00_8\",\"r\")\n",
      "    #cs = m.contourf(x,y,T[ymin:ymax,xmin:xmax],cmap=get_cmap('RdBu_r'),levels=np.arange(-16.,16.,1.))#,cmap=ct.Carbone42)#,levels=levs)\n",
      "    #plt.colorbar()\n",
      "\n",
      "    #cs = m.contourf(x,y,maxqr[ymin:ymax,xmin:xmax])#,levels=[0.0005])\n",
      "    #cs1 = m.contourf(x,y,np.max(a.variables['W_d01'][0,0,0:30,ymin:ymax,xmin:xmax],axis=0),levels=np.arange(5,50.,5.))\n",
      "    #plt.colorbar()\n",
      "\n",
      "    cs = m.contourf(x,y,dbz[0,ymin:ymax,xmin:xmax],levels=np.arange(-30.,70.,5.),cmap=ct.Carbone42)#,levels=levs)\n",
      "\n",
      "    plt.colorbar()\n",
      "    #cs = m.contour(x,y,vort,levels=arange(0.005,0.011,0.003),colors=['k','b','g'])\n",
      "\n",
      "    #plt.colorbar()\n",
      "    # plt.clabel(cs1,inline=1,fontsize=6)\n",
      "    #U = a.variables['U_d01'][0,0,0,ymin:ymax,xmin:xmax]\n",
      "    #V = a.variables['V_d01'][0,0,0,ymin:ymax,xmin:xmax]\n",
      "    #cs = m.quiver(x[::3],y[::3],U[::3,::3],V[::3,::3],pivot='mid',units='inches')\n",
      "    #plt.show()\n",
      "    print i\n",
      "    plt.title(\"Milbrandt-Yau\")\n",
      "    plt.savefig(\"DBZMYLAJUNTA0002.png\",dpi=300,bbox_inches='tight')#i[-4::]+\"MOR.png\",dpi=300) #i[-4::]\n",
      "    plt.close()\n",
      "    del(m)\n",
      "    del(cs1)\n",
      "    a.close()"
     ],
     "language": "python",
     "metadata": {},
     "outputs": [
      {
       "output_type": "stream",
       "stream": "stdout",
       "text": [
        "(234, 261)\n",
        "/Volumes/Raid5/aereinha/wrf_precip_d01_2009-06-12_00:22:00_25"
       ]
      },
      {
       "ename": "NameError",
       "evalue": "name 'cs1' is not defined",
       "output_type": "pyerr",
       "traceback": [
        "\u001b[0;31m---------------------------------------------------------------------------\u001b[0m\n\u001b[0;31mNameError\u001b[0m                                 Traceback (most recent call last)",
        "\u001b[0;32m<ipython-input-9-5c547deaa578>\u001b[0m in \u001b[0;36m<module>\u001b[0;34m()\u001b[0m\n\u001b[1;32m     58\u001b[0m     \u001b[0mplt\u001b[0m\u001b[0;34m.\u001b[0m\u001b[0mclose\u001b[0m\u001b[0;34m(\u001b[0m\u001b[0;34m)\u001b[0m\u001b[0;34m\u001b[0m\u001b[0m\n\u001b[1;32m     59\u001b[0m     \u001b[0;32mdel\u001b[0m\u001b[0;34m(\u001b[0m\u001b[0mm\u001b[0m\u001b[0;34m)\u001b[0m\u001b[0;34m\u001b[0m\u001b[0m\n\u001b[0;32m---> 60\u001b[0;31m     \u001b[0;32mdel\u001b[0m\u001b[0;34m(\u001b[0m\u001b[0mcs1\u001b[0m\u001b[0;34m)\u001b[0m\u001b[0;34m\u001b[0m\u001b[0m\n\u001b[0m\u001b[1;32m     61\u001b[0m     \u001b[0ma\u001b[0m\u001b[0;34m.\u001b[0m\u001b[0mclose\u001b[0m\u001b[0;34m(\u001b[0m\u001b[0;34m)\u001b[0m\u001b[0;34m\u001b[0m\u001b[0m\n",
        "\u001b[0;31mNameError\u001b[0m: name 'cs1' is not defined"
       ]
      },
      {
       "output_type": "stream",
       "stream": "stdout",
       "text": [
        "\n"
       ]
      }
     ],
     "prompt_number": 9
    },
    {
     "cell_type": "code",
     "collapsed": false,
     "input": [
      "    "
     ],
     "language": "python",
     "metadata": {},
     "outputs": [],
     "prompt_number": 13
    },
    {
     "cell_type": "code",
     "collapsed": false,
     "input": [],
     "language": "python",
     "metadata": {},
     "outputs": []
    }
   ],
   "metadata": {}
  }
 ]
}