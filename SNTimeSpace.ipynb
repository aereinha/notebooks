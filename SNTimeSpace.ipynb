{
 "metadata": {
  "name": "SNTimeSpace"
 },
 "nbformat": 3,
 "nbformat_minor": 0,
 "worksheets": [
  {
   "cells": [
    {
     "cell_type": "code",
     "collapsed": false,
     "input": [
      "import numpy as np\n",
      "from mpl_toolkits.basemap import Basemap\n",
      "import matplotlib.pyplot as plt\n",
      "#import pygrib\n",
      "import matplotlib as mt\n",
      "import ttuatmo.radar.ctables as ct\n",
      "import glob\n",
      "import netCDF4 as nc\n",
      "import pyproj  as proj\n",
      "import scipy.stats as scistat"
     ],
     "language": "python",
     "metadata": {},
     "outputs": [],
     "prompt_number": 98
    },
    {
     "cell_type": "code",
     "collapsed": false,
     "input": [
      "p = proj.Proj(proj='lcc',lat_1=a.variables['TRUELAT1'][:],lon_0=a.variables['STAND_LON'][:])\n",
      "x,y = p(a1,b1,inverse=True)\n",
      "print x.shape"
     ],
     "language": "python",
     "metadata": {},
     "outputs": [
      {
       "output_type": "stream",
       "stream": "stdout",
       "text": [
        "(100, 120)\n"
       ]
      }
     ],
     "prompt_number": 69
    },
    {
     "cell_type": "code",
     "collapsed": false,
     "input": [
      "a = nc.Dataset(\"/Volumes/External/aereinha/dumas1kmMOR/cold1dumas/201005190028/Posterior_Diag.nc\",\"r\")\n",
      "#a = nc.Dataset(\"/Volumes/Stor//Prior_Diag.nc\",\"r\")\n",
      "b = nc.Dataset(\"/Volumes/External/aereinha/dumas1kmMOR/cold1dumas/201005190028/precip/wrf_precip_d01_2010-05-19_00:30:00_20\",\"r\")\n",
      "dbz = b.variables['REFL_10CM'][0,:,:,:]\n",
      "xlat = c.variables['XLAT_d01'][:]\n",
      "xlong = c.variables['XLONG_d01'][:]\n",
      "U = c.variables['U_d01'][0,0,0,:,:]\n",
      "V = c.variables['V_d01'][0,0,0,:,:]\n",
      "\n",
      "qgraupel = c.variables['QGRAUP_d01'][0,0,:,:,:]\n",
      "print(xlat.shape)\n",
      "T = c.variables['T_d01'][0,0,0,:,:]#-b.variables['W_d01'][0,0,20,:,:]\n",
      "dbz = b.variables['REFL_10CM'][0,0,:,:]\n",
      "#shape = xlat.shape\n",
      "xdim = len(c.variables['XLAT_d01'][0,:])\n",
      "ydim = len(c.variables['XLONG_d01'][:,0])"
     ],
     "language": "python",
     "metadata": {},
     "outputs": [
      {
       "output_type": "stream",
       "stream": "stdout",
       "text": [
        "(239, 269)\n"
       ]
      }
     ],
     "prompt_number": 30
    },
    {
     "cell_type": "code",
     "collapsed": false,
     "input": [
      "ymin=80\n",
      "ymax=160\n",
      "xmin=100\n",
      "xmax=170\n",
      "shapefilelocation=\"/Volumes/Raid5/aereinha/shapefiles\"\n",
      "m=Basemap(resolution='i',projection='lcc',llcrnrlon=xlong[ymin,xmin],llcrnrlat=xlat[ymin,xmin],urcrnrlon=xlong[ymax,xmax],urcrnrlat=xlat[ymax,xmax],lat_1=a.variables['TRUELAT1'][:],lat_2=a.variables['TRUELAT2'][:],lat_0=a.variables['CEN_LAT'][:],lon_0=a.variables['STAND_LON'][:])\n",
      "m.drawcoastlines()\n",
      "#m.drawstates()\n",
      "m.drawcountries()\n",
      "\n",
      "m.readshapefile(shapefilelocation+'/UScounties/UScounties', name='UScounties')\n",
      "cs = m.contourf("
     ],
     "language": "python",
     "metadata": {},
     "outputs": []
    },
    {
     "cell_type": "code",
     "collapsed": false,
     "input": [
      "def readTSfile(fin,var):\n",
      "    \"\"\"loads Time-to-space data from Matlab\"\"\"\n",
      "    \n",
      "    x = np.genfromtxt(fin+'_X.csv',delimiter=',')\n",
      "    y = np.genfromtxt(fin+'_Y.csv',delimiter=',')\n",
      "    d = np.genfromtxt(fin+'_'+var+'.csv',delimiter=',')\n",
      "\n",
      "    return x,y,d\n"
     ],
     "language": "python",
     "metadata": {},
     "outputs": [],
     "prompt_number": 2
    },
    {
     "cell_type": "code",
     "collapsed": false,
     "input": [
      "a2,b2,c2 = readTSfile('/Volumes/Raid5/aereinha/Dropbox/TScode/18052010/analysis/2230_120','theta-v')"
     ],
     "language": "python",
     "metadata": {},
     "outputs": [],
     "prompt_number": 59
    },
    {
     "cell_type": "code",
     "collapsed": false,
     "input": [
      "a1,b1,c1 = readTSfile('/Volumes/Raid5/aereinha/Dropbox/TScode/18052010/analysis/230_90','theta-v')\n",
      "print c1.shape"
     ],
     "language": "python",
     "metadata": {},
     "outputs": [
      {
       "output_type": "stream",
       "stream": "stdout",
       "text": [
        "(100, 120)\n"
       ]
      }
     ],
     "prompt_number": 71
    },
    {
     "cell_type": "code",
     "collapsed": false,
     "input": [
      "plt.contourf(x,y,c2,levels=np.arange(-13,13,0.5),cmap=get_cmap('RdBu_r'))\n",
      "#plt.colorbar()\n"
     ],
     "language": "python",
     "metadata": {},
     "outputs": [
      {
       "output_type": "pyout",
       "prompt_number": 63,
       "text": [
        "<matplotlib.contour.QuadContourSet instance at 0x116f13908>"
       ]
      },
      {
       "output_type": "display_data",
       "png": "[encoded data removed]",
       "text": [
        "<matplotlib.figure.Figure at 0x116e12c50>"
       ]
      }
     ],
     "prompt_number": 63
    },
    {
     "cell_type": "code",
     "collapsed": false,
     "input": [
      "xmin=0\n",
      "xmax=60\n",
      "ymin=0\n",
      "ymax=119\n",
      "plt.figure(dpi=300)\n",
      "#p = proj.Proj(proj='lcc',lat_1=a.variables['TRUELAT1'][:],lon_0=a.variables['STAND_LON'][:])\n",
      "#x,y = p(a1[xmin:xmax,ymin:ymax],b1[xmin:xmax,ymin:ymax],inverse=True)\n",
      "plt.contourf(a1[xmin:xmax,ymin:ymax],b1[xmin:xmax,ymin:ymax],c1[xmin:xmax,ymin:ymax],levels=np.arange(-13,13,0.5),cmap=get_cmap('RdBu_r'))\n",
      "\n",
      "#plt.Axes.set_xticklabels(visible=False)\n",
      "plt.show()\n",
      "#plt.savefig(\"TS_230_90TV.png\",dpi=300)\n",
      "#plt.colorbar()\n",
      "g = scistat.nanmean(c1[xmin:xmax,ymin:ymax])\n",
      "print scistat.nanmean(g)\n"
     ],
     "language": "python",
     "metadata": {},
     "outputs": [
      {
       "output_type": "display_data",
       "png": "[encoded data removed]",
       "text": [
        "<matplotlib.figure.Figure at 0x1255e2610>"
       ]
      },
      {
       "output_type": "stream",
       "stream": "stdout",
       "text": [
        "-5.48866294765\n"
       ]
      }
     ],
     "prompt_number": 103
    },
    {
     "cell_type": "code",
     "collapsed": false,
     "input": [
      "xmin=0\n",
      "xmax=99\n",
      "ymin=50\n",
      "ymax=119\n",
      "plt.figure(dpi=300)\n",
      "p = proj.Proj(proj='lcc',lat_1=a.variables['TRUELAT1'][:],lon_0=a.variables['STAND_LON'][:])\n",
      "x,y = p(a1[xmin:xmax,ymin:ymax],b1[xmin:xmax,ymin:ymax],inverse=True)\n",
      "plt.contourf(x,y,c1[xmin:xmax,ymin:ymax],levels=np.arange(-13,13,0.5),cmap=get_cmap('RdBu_r'))\n",
      "\n",
      "#plt.Axes.set_xticklabels(visible=False)\n",
      "plt.show()\n",
      "#plt.savefig(\"TS_230_90TV.png\",dpi=300)\n",
      "#plt.colorbar()"
     ],
     "language": "python",
     "metadata": {},
     "outputs": [
      {
       "output_type": "display_data",
       "png": "[encoded data removed]",
       "text": [
        "<matplotlib.figure.Figure at 0x116fbaf90>"
       ]
      }
     ],
     "prompt_number": 82
    },
    {
     "cell_type": "code",
     "collapsed": false,
     "input": [
      "%pylab inline"
     ],
     "language": "python",
     "metadata": {},
     "outputs": [
      {
       "output_type": "stream",
       "stream": "stdout",
       "text": [
        "\n",
        "Welcome to pylab, a matplotlib-based Python environment [backend: module://IPython.zmq.pylab.backend_inline].\n",
        "For more information, type 'help(pylab)'.\n"
       ]
      }
     ],
     "prompt_number": 54
    },
    {
     "cell_type": "code",
     "collapsed": false,
     "input": [],
     "language": "python",
     "metadata": {},
     "outputs": []
    }
   ],
   "metadata": {}
  }
 ]
}