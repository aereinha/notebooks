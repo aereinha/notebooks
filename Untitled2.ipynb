{
 "metadata": {
  "name": "Untitled2"
 },
 "nbformat": 3,
 "nbformat_minor": 0,
 "worksheets": [
  {
   "cells": [
    {
     "cell_type": "code",
     "collapsed": false,
     "input": [
      "import sys\n",
      "import numpy as np\n",
      "import matplotlib.pyplot as plt\n",
      "from pylab import scatter,load,savefig,gca,get_cmap,colorbar,annotate,show,meshgrid,figure\n",
      "#from ttuatmo.met.pltcounties import pltCounties\n",
      "from mpl_toolkits.basemap import Basemap\n",
      "import netCDF4 as nc"
     ],
     "language": "python",
     "metadata": {},
     "outputs": [],
     "prompt_number": 2
    },
    {
     "cell_type": "code",
     "collapsed": false,
     "input": [
      "ncfileopen = nc.Dataset('/Volumes/Raid5/aereinha/obs_epoch_001.nc',\"r\")\n",
      "a = nc.Dataset(\"/Volumes/Raid5/aereinha/Posterior_Diag.0030.nc\",\"r\")\n",
      "xlat = a.variables['XLAT_d01'][:]\n",
      "xlong = a.variables['XLONG_d01'][:]\n",
      "location = ncfileopen.variables[\"location\"]\n",
      "qcval = ncfileopen.variables[\"obs_type\"]\n",
      "qcval1 = ncfileopen.variables['qc']\n",
      "obsindex = ncfileopen.variables[\"ObsIndex\"]"
     ],
     "language": "python",
     "metadata": {},
     "outputs": [],
     "prompt_number": 6
    },
    {
     "cell_type": "code",
     "collapsed": false,
     "input": [
      "qcs = qcval[:]\n",
      "lat = location[:,1]\n",
      "lon = location[:,0]\n",
      "alt = location[:,2]\n",
      "print (lon)\n",
      "qcs1 = qcs[:] == 37\n",
      "print qcs1.shape\n",
      "ncfileopen.variables.keys()\n",
      "ncfileopen.variables['ObsTypesMetaData'][36]"
     ],
     "language": "python",
     "metadata": {},
     "outputs": [
      {
       "output_type": "stream",
       "stream": "stdout",
       "text": [
        "[ 256.09368772  256.1164664   256.13925191 ...,  257.72429976  257.72429976\n",
        "  257.74740629]\n",
        "(13096,)\n"
       ]
      },
      {
       "output_type": "pyout",
       "prompt_number": 35,
       "text": [
        "array(['D', 'O', 'P', 'P', 'L', 'E', 'R', '_', 'R', 'A', 'D', 'I', 'A',\n",
        "       'L', '_', 'V', 'E', 'L', 'O', 'C', 'I', 'T', 'Y', ' ', ' ', ' ',\n",
        "       ' ', ' ', ' ', ' ', ' ', ' '], \n",
        "      dtype='|S1')"
       ]
      }
     ],
     "prompt_number": 35
    },
    {
     "cell_type": "code",
     "collapsed": false,
     "input": [
      "shapefilelocation=\"/Volumes/Raid5/aereinha/shapefiles\"\n",
      "m=Basemap(resolution='i',projection='lcc',llcrnrlon=xlong[0,0],llcrnrlat=xlat[0,0],urcrnrlon=xlong[-1,-1],urcrnrlat=xlat[-1,-1],lat_1=a.variables['TRUELAT1'][:],lat_2=a.variables['TRUELAT2'][:],lat_0=a.variables['CEN_LAT'][:],lon_0=a.variables['STAND_LON'][:])\n",
      "m.readshapefile(shapefilelocation+'/UScounties/UScounties', name='UScounties')\n",
      "#m.drawcountries()\n",
      "#m.drawstates()\n",
      "x,y = m(lon,lat)\n",
      "m.scatter(x[qcs1],y[qcs1])\n",
      "plt.show()"
     ],
     "language": "python",
     "metadata": {},
     "outputs": [],
     "prompt_number": 36
    },
    {
     "cell_type": "code",
     "collapsed": false,
     "input": [
      "x,y = plot(lon,lat)\n",
      "plot.scatter(x,y,c=qcs1)\n",
      "plt.show()"
     ],
     "language": "python",
     "metadata": {},
     "outputs": []
    },
    {
     "cell_type": "code",
     "collapsed": false,
     "input": [
      "%pylab osx"
     ],
     "language": "python",
     "metadata": {},
     "outputs": [
      {
       "output_type": "stream",
       "stream": "stdout",
       "text": [
        "\n",
        "Welcome to pylab, a matplotlib-based Python environment [backend: MacOSX].\n",
        "For more information, type 'help(pylab)'.\n"
       ]
      }
     ],
     "prompt_number": 11
    },
    {
     "cell_type": "code",
     "collapsed": false,
     "input": [],
     "language": "python",
     "metadata": {},
     "outputs": []
    }
   ],
   "metadata": {}
  }
 ]
}