{
 "metadata": {
  "name": "Untitled2"
 },
 "nbformat": 3,
 "nbformat_minor": 0,
 "worksheets": [
  {
   "cells": [
    {
     "cell_type": "code",
     "collapsed": false,
     "input": [
      "import sys\n",
      "import numpy as np\n",
      "import matplotlib.pyplot as plt\n",
      "from pylab import scatter,load,savefig,gca,get_cmap,colorbar,annotate,show,meshgrid,figure\n",
      "from ttuatmo.met.pltcounties import pltCounties\n",
      "from mpl_toolkits.basemap import Basemap\n",
      "import netCDF4 as nc"
     ],
     "language": "python",
     "metadata": {},
     "outputs": [],
     "prompt_number": 25
    },
    {
     "cell_type": "code",
     "collapsed": false,
     "input": [
      "ncfileopen = nc.Dataset('/Users/aereinha/Desktop/obs_epoch_112.nc',\"r\")\n",
      "location = ncfileopen.variables[\"location\"]\n",
      "qcval = ncfileopen.variables[\"obs_type\"]\n",
      "obsindex = ncfileopen.variables[\"ObsIndex\"]"
     ],
     "language": "python",
     "metadata": {},
     "outputs": [],
     "prompt_number": 40
    },
    {
     "cell_type": "code",
     "collapsed": false,
     "input": [
      "qcs = qcval[:]\n",
      "lat = location[:,1]\n",
      "lon = location[:,0]-360.\n",
      "alt = location[:,2]\n",
      "print (lon)\n",
      "qcs1 = qcs"
     ],
     "language": "python",
     "metadata": {},
     "outputs": [
      {
       "output_type": "stream",
       "stream": "stdout",
       "text": [
        "[ -30.85000038  -30.85000038  -31.30999947 ..., -147.88000488 -147.88000488\n",
        " -147.88000488]\n"
       ]
      }
     ],
     "prompt_number": 41
    },
    {
     "cell_type": "code",
     "collapsed": false,
     "input": [
      "shapefilelocation=\"/Volumes/External/aereinha/shapefiles\"\n",
      "plot = Basemap(projection='lcc',lat_0=40.0,lon_0=-103.0,llcrnrlon=-120.,llcrnrlat=30.,urcrnrlon=-90.,urcrnrlat=50.)\n",
      "plot.readshapefile(shapefilelocation+'/counties/c_03ap12', name='counties')\n",
      "plot.drawcountries()\n",
      "plot.drawstates()"
     ],
     "language": "python",
     "metadata": {},
     "outputs": [
      {
       "output_type": "pyout",
       "prompt_number": 42,
       "text": [
        "<matplotlib.collections.LineCollection at 0x13d9cf690>"
       ]
      }
     ],
     "prompt_number": 42
    },
    {
     "cell_type": "code",
     "collapsed": false,
     "input": [
      "x,y = plot(lon,lat)\n",
      "plot.scatter(x,y,c=qcs1)\n",
      "plt.show()"
     ],
     "language": "python",
     "metadata": {},
     "outputs": [],
     "prompt_number": 43
    },
    {
     "cell_type": "code",
     "collapsed": false,
     "input": [
      "show()"
     ],
     "language": "python",
     "metadata": {},
     "outputs": [],
     "prompt_number": 24
    },
    {
     "cell_type": "code",
     "collapsed": false,
     "input": [],
     "language": "python",
     "metadata": {},
     "outputs": []
    }
   ],
   "metadata": {}
  }
 ]
}