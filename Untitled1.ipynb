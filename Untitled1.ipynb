{
 "metadata": {
  "name": "Untitled1"
 },
 "nbformat": 3,
 "nbformat_minor": 0,
 "worksheets": [
  {
   "cells": [
    {
     "cell_type": "code",
     "collapsed": false,
     "input": [
      "import numpy as np\n",
      "from mpl_toolkits.basemap import Basemap\n",
      "import matplotlib.pyplot as plt\n",
      "import pygrib\n",
      "import matplotlib as mt\n",
      "import ttuatmo.radar.ctables as ct\n",
      "import glob\n",
      "import netCDF4 as nc"
     ],
     "language": "python",
     "metadata": {},
     "outputs": [],
     "prompt_number": 2
    },
    {
     "cell_type": "code",
     "collapsed": false,
     "input": [
      "a=nc.Dataset('/Volumes/External/aereinha/dumasmeso1/outputnodfi3hr/2010051800/obs_epoch_001.nc',\"r\")\n"
     ],
     "language": "python",
     "metadata": {},
     "outputs": [],
     "prompt_number": 11
    },
    {
     "cell_type": "code",
     "collapsed": false,
     "input": [
      "a.variables.keys()\n"
     ],
     "language": "python",
     "metadata": {},
     "outputs": [
      {
       "output_type": "pyout",
       "prompt_number": 12,
       "text": [
        "[u'copy',\n",
        " u'qc_copy',\n",
        " u'ObsTypes',\n",
        " u'ObsTypesMetaData',\n",
        " u'QCMetaData',\n",
        " u'CopyMetaData',\n",
        " u'namelist',\n",
        " u'ObsIndex',\n",
        " u'time',\n",
        " u'obs_type',\n",
        " u'obs_keys',\n",
        " u'observations',\n",
        " u'qc',\n",
        " u'location',\n",
        " u'which_vert']"
       ]
      }
     ],
     "prompt_number": 12
    },
    {
     "cell_type": "code",
     "collapsed": false,
     "input": [
      "a.variables['CopyMetaData'][:]"
     ],
     "language": "python",
     "metadata": {},
     "outputs": [
      {
       "output_type": "pyout",
       "prompt_number": 15,
       "text": [
        "array([['N', 'C', 'E', ..., ' ', ' ', ' '],\n",
        "       ['p', 'r', 'i', ..., ' ', ' ', ' '],\n",
        "       ['p', 'o', 's', ..., ' ', ' ', ' '],\n",
        "       ..., \n",
        "       ['p', 'r', 'i', ..., ' ', ' ', ' '],\n",
        "       ['p', 'o', 's', ..., ' ', '5', '0'],\n",
        "       ['o', 'b', 's', ..., ' ', ' ', ' ']], \n",
        "      dtype='|S1')"
       ]
      }
     ],
     "prompt_number": 15
    },
    {
     "cell_type": "code",
     "collapsed": false,
     "input": [],
     "language": "python",
     "metadata": {},
     "outputs": []
    }
   ],
   "metadata": {}
  }
 ]
}